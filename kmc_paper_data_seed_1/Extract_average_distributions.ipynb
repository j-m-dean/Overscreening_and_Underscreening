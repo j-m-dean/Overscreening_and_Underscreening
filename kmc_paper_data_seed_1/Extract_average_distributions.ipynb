{
 "cells": [
  {
   "cell_type": "markdown",
   "metadata": {},
   "source": [
    "## Extract average distributions and errors from individual simulations"
   ]
  },
  {
   "cell_type": "code",
   "execution_count": 1,
   "metadata": {
    "ExecuteTime": {
     "end_time": "2021-02-25T14:30:05.715341Z",
     "start_time": "2021-02-25T14:30:05.252512Z"
    }
   },
   "outputs": [],
   "source": [
    "# Import required packages\n",
    "\n",
    "import json\n",
    "import os\n",
    "import numpy as np\n",
    "import matplotlib.pyplot as plt"
   ]
  },
  {
   "cell_type": "markdown",
   "metadata": {},
   "source": [
    "### Create json for systems with 105 charges\n",
    "\n",
    "This can look a bit untidy because the simulations are in different subdirectories."
   ]
  },
  {
   "cell_type": "code",
   "execution_count": 2,
   "metadata": {
    "ExecuteTime": {
     "end_time": "2021-02-25T14:30:05.721322Z",
     "start_time": "2021-02-25T14:30:05.717489Z"
    }
   },
   "outputs": [],
   "source": [
    "# Store the average distributions, standard deviations,\n",
    "# and standard errors in arrays. These are of length\n",
    "# 37 because our box length is 75, and therefore our\n",
    "# space-charge region has half width of 37 lattice\n",
    "# spacing. There are 14 permittivities and so these \n",
    "# are stored at the respective indicies e.g. index\n",
    "# (0, 1, 2, 3, 4, 5, 6, 7, 8, 9, 10, 11, 12, 13, 14, 15) map to\n",
    "# permitivitties (1, 4 ,7, 10, 13, 16, 19, 22, 25, 28, \n",
    "# 50, 75, 100, 2, 65, 85). Two, sixty-fice, and eighty five were \n",
    "# not initially a part of the analysis\n",
    "# and are therefore an addition at the end to prevent a rewrite\n",
    "# of the scripts\n",
    "\n",
    "all_105_distributions = np.zeros((37,16)) # average distributions\n",
    "\n",
    "all_105_errors_se = np.zeros((37,16)) # standard errors\n",
    "\n",
    "all_105_errors_sd = np.zeros((37,16)) # standard deviations"
   ]
  },
  {
   "cell_type": "code",
   "execution_count": 3,
   "metadata": {},
   "outputs": [],
   "source": [
    "def format_distribution(path):\n",
    "    \n",
    "    \"\"\"\n",
    "    Format the average distribution from a kinetic Monte Carlo\n",
    "    simulation such that the grain boundary is the centre\n",
    "    of the distribution. \n",
    "    \n",
    "    Args:\n",
    "    path (str): path to an 'average_occupancy.json' file\n",
    "    \n",
    "    Returns:\n",
    "    distribution_data (numpy array): the average occupancy of \n",
    "    each plane with the grain boundary centred. This average\n",
    "    occupancy is given in number of charged. \n",
    "    \"\"\"\n",
    "    \n",
    "    # Read data\n",
    "    with open(path) as json_file:\n",
    "            data = json.load(json_file)\n",
    "\n",
    "    # Get the average_occupancy data\n",
    "    distribution_data = data['average_occupancy']\n",
    "\n",
    "    # Centre the grain boundary\n",
    "    distribution_data = np.roll(distribution_data,1)\n",
    "    \n",
    "    return(distribution_data)"
   ]
  },
  {
   "cell_type": "code",
   "execution_count": 4,
   "metadata": {},
   "outputs": [],
   "source": [
    "all_105_paths = {}\n",
    "\n",
    "for p in [1, 4, 7, 10, 13, 16, 19, 22, 25, 28, 50, 75, 100, 2, 65, 85]:\n",
    "    all_105_paths[\"permittivity_{}\".format(p)] = []"
   ]
  },
  {
   "cell_type": "code",
   "execution_count": 5,
   "metadata": {
    "ExecuteTime": {
     "end_time": "2021-02-25T14:30:06.937575Z",
     "start_time": "2021-02-25T14:30:05.723804Z"
    }
   },
   "outputs": [
    {
     "data": {
      "image/png": "[encoded data removed]",
      "text/plain": [
       "<Figure size 432x288 with 1 Axes>"
      ]
     },
     "metadata": {
      "needs_background": "light"
     },
     "output_type": "display_data"
    },
    {
     "data": {
      "image/png": "[encoded data removed]",
      "text/plain": [
       "<Figure size 432x288 with 1 Axes>"
      ]
     },
     "metadata": {
      "needs_background": "light"
     },
     "output_type": "display_data"
    },
    {
     "data": {
      "image/png": "[encoded data removed]",
      "text/plain": [
       "<Figure size 432x288 with 1 Axes>"
      ]
     },
     "metadata": {
      "needs_background": "light"
     },
     "output_type": "display_data"
    }
   ],
   "source": [
    "# Read in data for permittivities 1, 4, 7\n",
    "\n",
    "for h, g in enumerate([1,4,7]):\n",
    "    distri = np.zeros((37,60))\n",
    "\n",
    "    for j in range(10):\n",
    "        \n",
    "        # Some calculations were completed in two halves hence the averaging  \n",
    "        \n",
    "        path = \"./simulation_data/27_11_20/charges_105/perm_{}/calc_{}/average_occupancy_mean.json\".format(g,j)\n",
    "\n",
    "        distribution_data = format_distribution(path)\n",
    "\n",
    "        distri[:,2 * j] = distribution_data[38:] \n",
    "        distri[:,2 * j + 1] = np.flip(distribution_data[:37])\n",
    "        \n",
    "        all_105_paths[\"permittivity_{}\".format(g)].append(path)\n",
    "        \n",
    "        \n",
    "        path = \"./simulation_data/07_12_20/charges_105/perm_{}/calc_{}/average_occupancy_mean.json\".format(g,j)\n",
    "\n",
    "        distribution_data = format_distribution(path)\n",
    "\n",
    "        distri[:,20 + 2 * j] = distribution_data[38:] \n",
    "        distri[:,20 + 2 * j + 1] = np.flip(distribution_data[:37]) \n",
    "        \n",
    "        all_105_paths[\"permittivity_{}\".format(g)].append(path)\n",
    "\n",
    "    for j in range(5):\n",
    "\n",
    "        path = \"./simulation_data/24_12_20/charges_105/perm_{}/calc_{}/average_occupancy.json\".format(g,j)\n",
    "\n",
    "        distribution_data = format_distribution(path)\n",
    "\n",
    "        distri[:,40 + 2 * j] = distribution_data[38:]\n",
    "        distri[:,40 + 2 * j + 1] = np.flip(distribution_data[:37])\n",
    "        \n",
    "        all_105_paths[\"permittivity_{}\".format(g)].append(path)\n",
    "\n",
    "\n",
    "        path = \"./simulation_data/25_12_20/charges_105/perm_{}/calc_{}/average_occupancy.json\".format(g,j)\n",
    "\n",
    "        distribution_data = format_distribution(path)\n",
    "\n",
    "        distri[:,50 + 2 * j] = distribution_data[38:]\n",
    "        distri[:,50 + 2 * j + 1] = np.flip(distribution_data[:37])\n",
    "        \n",
    "        all_105_paths[\"permittivity_{}\".format(g)].append(path)\n",
    "        \n",
    "\n",
    "    # Calculate the average\n",
    "    \n",
    "    distributions = np.mean(distri, axis = 1 )\n",
    "    \n",
    "    all_105_distributions[:,h] = distributions\n",
    "\n",
    "    err = np.zeros(37)\n",
    "\n",
    "    for k in range(37):\n",
    "        err[k] = np.std(distri[k,:])  \n",
    "        \n",
    "        \n",
    "    all_105_errors_se[:,h] = err / np.sqrt(60)\n",
    "    all_105_errors_sd[:,h] = err \n",
    "\n",
    "\n",
    "    x = np.array(range(1,38))*2.5e-10\n",
    "\n",
    "    plt.errorbar(x, distributions, err, fmt=\"o\") # error bars are standard deviations\n",
    "    plt.xlabel(r\"x / m\")\n",
    "    plt.ylabel(r\"Average occupancy of plane\")\n",
    "    plt.title(r\"$\\epsilon_{r}$ = \" + str(g))\n",
    "    \n",
    "    # Uncomment the below out if you wish to view all the individual simulations\n",
    "#     for i in range(60):\n",
    "#         plt.plot(x, distri[:,i], '-')\n",
    "\n",
    "    plt.show()\n",
    "    "
   ]
  },
  {
   "cell_type": "code",
   "execution_count": 6,
   "metadata": {},
   "outputs": [
    {
     "data": {
      "image/png": "[encoded data removed]",
      "text/plain": [
       "<Figure size 432x288 with 1 Axes>"
      ]
     },
     "metadata": {
      "needs_background": "light"
     },
     "output_type": "display_data"
    },
    {
     "data": {
      "image/png": "[encoded data removed]",
      "text/plain": [
       "<Figure size 432x288 with 1 Axes>"
      ]
     },
     "metadata": {
      "needs_background": "light"
     },
     "output_type": "display_data"
    },
    {
     "data": {
      "image/png": "[encoded data removed]",
      "text/plain": [
       "<Figure size 432x288 with 1 Axes>"
      ]
     },
     "metadata": {
      "needs_background": "light"
     },
     "output_type": "display_data"
    }
   ],
   "source": [
    "# Read in data for permittivities 10, 13, 16\n",
    "\n",
    "for h, g in enumerate([10,13,16]):\n",
    "    distri = np.zeros((37,100))\n",
    "\n",
    "    for j in range(10):\n",
    "        \n",
    "        # Some calculations were completed in two halves hence the averaging  \n",
    "        \n",
    "        path = \"./simulation_data/27_11_20/charges_105/perm_{}/calc_{}/average_occupancy_mean.json\".format(g,j)\n",
    "\n",
    "        distribution_data = format_distribution(path)\n",
    "\n",
    "        distri[:,2 * j] = distribution_data[38:] \n",
    "        distri[:,2 * j + 1] = np.flip(distribution_data[:37])\n",
    "        \n",
    "        all_105_paths[\"permittivity_{}\".format(g)].append(path)\n",
    "        \n",
    "        \n",
    "        path = \"./simulation_data/07_12_20/charges_105/perm_{}/calc_{}/average_occupancy_mean.json\".format(g,j)\n",
    "\n",
    "        distribution_data = format_distribution(path)\n",
    "\n",
    "        distri[:,20 + 2 * j] = distribution_data[38:] \n",
    "        distri[:,20 + 2 * j + 1] = np.flip(distribution_data[:37]) \n",
    "        \n",
    "        all_105_paths[\"permittivity_{}\".format(g)].append(path)\n",
    "\n",
    "    for j in range(5):\n",
    "\n",
    "        path = \"./simulation_data/24_12_20/charges_105/perm_{}/calc_{}/average_occupancy.json\".format(g,j)\n",
    "\n",
    "        distribution_data = format_distribution(path)\n",
    "\n",
    "        distri[:,40 + 2 * j] = distribution_data[38:]\n",
    "        distri[:,40 + 2 * j + 1] = np.flip(distribution_data[:37])\n",
    "        \n",
    "        all_105_paths[\"permittivity_{}\".format(g)].append(path)\n",
    "\n",
    "\n",
    "        path = \"./simulation_data/25_12_20/charges_105/perm_{}/calc_{}/average_occupancy.json\".format(g,j)\n",
    "\n",
    "        distribution_data = format_distribution(path)\n",
    "\n",
    "        distri[:,50 + 2 * j] = distribution_data[38:]\n",
    "        distri[:,50 + 2 * j + 1] = np.flip(distribution_data[:37])\n",
    "        \n",
    "        all_105_paths[\"permittivity_{}\".format(g)].append(path)\n",
    "        \n",
    "    for j in range(20):\n",
    "\n",
    "        path = \"./simulation_data/18_03_21/charges_105/perm_{}/calc_{}/average_occupancy.json\".format(g,j)\n",
    "\n",
    "        distribution_data = format_distribution(path)\n",
    "\n",
    "        distri[:,60 + 2 * j] = distribution_data[38:]\n",
    "        distri[:,60 + 2 * j + 1] = np.flip(distribution_data[:37])\n",
    "        \n",
    "        all_105_paths[\"permittivity_{}\".format(g)].append(path)\n",
    "        \n",
    "        \n",
    "\n",
    "    # Calculate the average\n",
    "    \n",
    "    distributions = np.mean(distri, axis = 1 )\n",
    "    \n",
    "    all_105_distributions[:,h+3] = distributions\n",
    "\n",
    "    err = np.zeros(37)\n",
    "\n",
    "    for k in range(37):\n",
    "        err[k] = np.std(distri[k,:])  \n",
    "        \n",
    "        \n",
    "    all_105_errors_se[:,3+h] = err / np.sqrt(100)\n",
    "    all_105_errors_sd[:,3+h] = err \n",
    "\n",
    "\n",
    "    x = np.array(range(1,38))*2.5e-10\n",
    "\n",
    "    plt.errorbar(x, distributions, err, fmt=\"o\") # error bars are standard deviations\n",
    "    plt.xlabel(r\"x / m\")\n",
    "    plt.ylabel(r\"Average occupancy of plane\")\n",
    "    plt.title(r\"$\\epsilon_{r}$ = \" + str(g))\n",
    "    \n",
    "    # Uncomment the below out if you wish to view all the individual simulations\n",
    "#     for i in range(100):\n",
    "#         plt.plot(x, distri[:,i], '-')\n",
    "\n",
    "    plt.show()\n",
    "    "
   ]
  },
  {
   "cell_type": "code",
   "execution_count": 7,
   "metadata": {},
   "outputs": [
    {
     "data": {
      "image/png": "[encoded data removed]",
      "text/plain": [
       "<Figure size 432x288 with 1 Axes>"
      ]
     },
     "metadata": {
      "needs_background": "light"
     },
     "output_type": "display_data"
    }
   ],
   "source": [
    "# Read in data for permittivity 19\n",
    "\n",
    "for h, g in enumerate([19]):\n",
    "    distri = np.zeros((37,140))\n",
    "\n",
    "    for j in range(10):\n",
    "        path = \"./simulation_data/27_11_20/charges_105/perm_{}/calc_{}/average_occupancy_mean.json\".format(g,j)\n",
    "\n",
    "        distribution_data = format_distribution(path)\n",
    "\n",
    "        distri[:,2 * j] = distribution_data[38:]\n",
    "        distri[:,2 * j + 1] = np.flip(distribution_data[:37])\n",
    "        \n",
    "        all_105_paths[\"permittivity_{}\".format(g)].append(path)\n",
    "        \n",
    "\n",
    "        path = \"./simulation_data/07_12_20/charges_105/perm_{}/calc_{}/average_occupancy_mean.json\".format(g,j)\n",
    "\n",
    "        distribution_data = format_distribution(path)\n",
    "        \n",
    "        all_105_paths[\"permittivity_{}\".format(g)].append(path)\n",
    "\n",
    "\n",
    "        distri[:,20 + 2 * j] = distribution_data[38:]\n",
    "        distri[:,20 + 2 * j + 1] = np.flip(distribution_data[:37]) \n",
    "\n",
    "    for j in range(5):\n",
    "\n",
    "        path = \"./simulation_data/24_12_20/charges_105/perm_{}/calc_{}/average_occupancy.json\".format(g,j)\n",
    "\n",
    "        distribution_data = format_distribution(path)\n",
    "\n",
    "        distri[:,40 + 2 * j] = distribution_data[38:]\n",
    "        distri[:,40 + 2 * j + 1] = np.flip(distribution_data[:37])\n",
    "        \n",
    "        all_105_paths[\"permittivity_{}\".format(g)].append(path)\n",
    "\n",
    "        path = \"./simulation_data/25_12_20/charges_105/perm_{}/calc_{}/average_occupancy.json\".format(g,j)\n",
    "\n",
    "        distribution_data = format_distribution(path)\n",
    "\n",
    "        distri[:,50 + 2 * j] = distribution_data[38:]\n",
    "        distri[:,50 + 2 * j + 1] = np.flip(distribution_data[:37])\n",
    "        \n",
    "        all_105_paths[\"permittivity_{}\".format(g)].append(path)\n",
    "        \n",
    "    for j in range(20):\n",
    "\n",
    "        path = \"./simulation_data/05_01_21/charges_105/perm_{}/calc_{}/average_occupancy.json\".format(g,j)\n",
    "\n",
    "        distribution_data = format_distribution(path)\n",
    "\n",
    "        distri[:,60 + 2 * j] = distribution_data[38:]\n",
    "        distri[:,60 + 2 * j + 1] = np.flip(distribution_data[:37])\n",
    "        \n",
    "        all_105_paths[\"permittivity_{}\".format(g)].append(path)\n",
    "        \n",
    "    for j in range(20):\n",
    "\n",
    "        path = \"./simulation_data/18_03_21/charges_105/perm_{}/calc_{}/average_occupancy.json\".format(g,j)\n",
    "\n",
    "        distribution_data = format_distribution(path)\n",
    "\n",
    "        distri[:,100 + 2 * j] = distribution_data[38:]\n",
    "        distri[:,100 + 2 * j + 1] = np.flip(distribution_data[:37])\n",
    "        \n",
    "        all_105_paths[\"permittivity_{}\".format(g)].append(path)\n",
    "\n",
    "    distributions = np.mean(distri, axis = 1 )\n",
    "    \n",
    "    all_105_distributions[:,h+6] = distributions\n",
    "\n",
    "    err = np.zeros(37)\n",
    "\n",
    "    for k in range(37):\n",
    "        err[k] = np.std(distri[k,:])  \n",
    "        \n",
    "    all_105_errors_se[:,h+6] = err / np.sqrt(140)\n",
    "    all_105_errors_sd[:,h+6] = err \n",
    "\n",
    "\n",
    "    x = np.array(range(1,38))*2.5e-10\n",
    "\n",
    "    plt.errorbar(x, distributions, err, fmt=\"o\") # error bars are standard deviations\n",
    "    plt.xlabel(r\"x / m\")\n",
    "    plt.ylabel(r\"Average occupancy of plane\")\n",
    "    plt.title(r\"$\\epsilon_{r}$ = \" + str(g))\n",
    "    \n",
    "    # Uncomment the below out if you wish to view all the individual simulations\n",
    "#     for i in range(140):\n",
    "#         plt.plot(x, distri[:,i], '-')\n",
    "        \n",
    "    plt.show()"
   ]
  },
  {
   "cell_type": "code",
   "execution_count": 8,
   "metadata": {
    "ExecuteTime": {
     "end_time": "2021-02-25T14:30:07.650928Z",
     "start_time": "2021-02-25T14:30:06.940378Z"
    }
   },
   "outputs": [
    {
     "data": {
      "image/png": "[encoded data removed]",
      "text/plain": [
       "<Figure size 432x288 with 1 Axes>"
      ]
     },
     "metadata": {
      "needs_background": "light"
     },
     "output_type": "display_data"
    },
    {
     "data": {
      "image/png": "[encoded data removed]",
      "text/plain": [
       "<Figure size 432x288 with 1 Axes>"
      ]
     },
     "metadata": {
      "needs_background": "light"
     },
     "output_type": "display_data"
    },
    {
     "data": {
      "image/png": "[encoded data removed]",
      "text/plain": [
       "<Figure size 432x288 with 1 Axes>"
      ]
     },
     "metadata": {
      "needs_background": "light"
     },
     "output_type": "display_data"
    }
   ],
   "source": [
    "# Read in data for permittivities  22, 25, and 28.\n",
    "\n",
    "for h, g in enumerate([22,25,28]):\n",
    "    distri = np.zeros((37,100))\n",
    "\n",
    "    for j in range(10):\n",
    "        path = \"./simulation_data/27_11_20/charges_105/perm_{}/calc_{}/average_occupancy_mean.json\".format(g,j)\n",
    "\n",
    "        distribution_data = format_distribution(path)\n",
    "\n",
    "        distri[:,2 * j] = distribution_data[38:]\n",
    "        distri[:,2 * j + 1] = np.flip(distribution_data[:37])\n",
    "        \n",
    "        all_105_paths[\"permittivity_{}\".format(g)].append(path)\n",
    "        \n",
    "\n",
    "        path = \"./simulation_data/07_12_20/charges_105/perm_{}/calc_{}/average_occupancy_mean.json\".format(g,j)\n",
    "\n",
    "        distribution_data = format_distribution(path)\n",
    "        \n",
    "        all_105_paths[\"permittivity_{}\".format(g)].append(path)\n",
    "\n",
    "\n",
    "        distri[:,20 + 2 * j] = distribution_data[38:]\n",
    "        distri[:,20 + 2 * j + 1] = np.flip(distribution_data[:37]) \n",
    "\n",
    "    for j in range(5):\n",
    "\n",
    "        path = \"./simulation_data/24_12_20/charges_105/perm_{}/calc_{}/average_occupancy.json\".format(g,j)\n",
    "\n",
    "        distribution_data = format_distribution(path)\n",
    "\n",
    "        distri[:,40 + 2 * j] = distribution_data[38:]\n",
    "        distri[:,40 + 2 * j + 1] = np.flip(distribution_data[:37])\n",
    "        \n",
    "        all_105_paths[\"permittivity_{}\".format(g)].append(path)\n",
    "\n",
    "        path = \"./simulation_data/25_12_20/charges_105/perm_{}/calc_{}/average_occupancy.json\".format(g,j)\n",
    "\n",
    "        distribution_data = format_distribution(path)\n",
    "\n",
    "        distri[:,50 + 2 * j] = distribution_data[38:]\n",
    "        distri[:,50 + 2 * j + 1] = np.flip(distribution_data[:37])\n",
    "        \n",
    "        all_105_paths[\"permittivity_{}\".format(g)].append(path)\n",
    "        \n",
    "    for j in range(20):\n",
    "\n",
    "        path = \"./simulation_data/05_01_21/charges_105/perm_{}/calc_{}/average_occupancy.json\".format(g,j)\n",
    "\n",
    "        distribution_data = format_distribution(path)\n",
    "\n",
    "        distri[:,60 + 2 * j] = distribution_data[38:]\n",
    "        distri[:,60 + 2 * j + 1] = np.flip(distribution_data[:37])\n",
    "        \n",
    "        all_105_paths[\"permittivity_{}\".format(g)].append(path)\n",
    "\n",
    "    distributions = np.mean(distri, axis = 1 )\n",
    "    \n",
    "    all_105_distributions[:,h+7] = distributions\n",
    "\n",
    "    err = np.zeros(37)\n",
    "\n",
    "    for k in range(37):\n",
    "        err[k] = np.std(distri[k,:])  \n",
    "        \n",
    "    all_105_errors_se[:,h+7] = err / np.sqrt(100)\n",
    "    all_105_errors_sd[:,h+7] = err \n",
    "\n",
    "\n",
    "    x = np.array(range(1,38))*2.5e-10\n",
    "\n",
    "    plt.errorbar(x, distributions, err, fmt=\"o\") # error bars are standard deviations\n",
    "    plt.xlabel(r\"x / m\")\n",
    "    plt.ylabel(r\"Average occupancy of plane\")\n",
    "    plt.title(r\"$\\epsilon_{r}$ = \" + str(g))\n",
    "    \n",
    "    # Uncomment the below out if you wish to view all the individual simulations\n",
    "#     for i in range(100):\n",
    "#         plt.plot(x, distri[:,i], '-')\n",
    "        \n",
    "    plt.show()"
   ]
  },
  {
   "cell_type": "code",
   "execution_count": 9,
   "metadata": {
    "ExecuteTime": {
     "end_time": "2021-02-25T14:30:07.843384Z",
     "start_time": "2021-02-25T14:30:07.653071Z"
    }
   },
   "outputs": [
    {
     "data": {
      "image/png": "[encoded data removed]",
      "text/plain": [
       "<Figure size 432x288 with 1 Axes>"
      ]
     },
     "metadata": {
      "needs_background": "light"
     },
     "output_type": "display_data"
    }
   ],
   "source": [
    "# Read in data for permittivity = 50\n",
    "\n",
    "distri = np.zeros((37,150))\n",
    "\n",
    "for j in range(50):\n",
    "    path = \"./simulation_data/08_12_20/charges_105/perm_50/calc_{}/average_occupancy.json\".format(j)\n",
    "\n",
    "    distribution_data = format_distribution(path)\n",
    "\n",
    "    distri[:,2 * j] = distribution_data[38:]\n",
    "    distri[:,2 * j + 1] = np.flip(distribution_data[:37])\n",
    "    \n",
    "    all_105_paths[\"permittivity_{}\".format(50)].append(path)\n",
    "    \n",
    "for j in range(25):\n",
    "    path = \"./simulation_data/24_02_21/charges_105/perm_50/calc_{}/average_occupancy.json\".format(j)\n",
    "\n",
    "    distribution_data = format_distribution(path)\n",
    "\n",
    "    distri[:,100+2 * j] = distribution_data[38:]\n",
    "    distri[:,100+2 * j + 1] = np.flip(distribution_data[:37])\n",
    "    \n",
    "    all_105_paths[\"permittivity_{}\".format(50)].append(path)\n",
    "    \n",
    "\n",
    "\n",
    "distributions = np.mean(distri, axis = 1 )\n",
    "\n",
    "err = np.zeros(37)\n",
    "\n",
    "for k in range(37):\n",
    "    err[k] = np.std(distri[k,:])  \n",
    "    \n",
    "all_105_distributions[:,10] = distributions\n",
    "all_105_errors_se[:,10] = err / np.sqrt(150)\n",
    "all_105_errors_sd[:,10] = err \n",
    "\n",
    "\n",
    "x = np.array(range(1,38))*2.5e-10\n",
    "\n",
    "plt.errorbar(x, distributions, err, fmt=\"o\")# error bars are standard deviations\n",
    "plt.xlabel(r\"x / m\")\n",
    "plt.ylabel(r\"Average occupancy of plane\")\n",
    "plt.title(r\"$\\epsilon_{r}$ = \" + str(50))\n",
    "# Uncomment the below out if you wish to view all the individual simulations\n",
    "# for i in range(100):\n",
    "#     plt.plot(x, distri[:,i], '-')\n",
    "\n",
    "plt.show()"
   ]
  },
  {
   "cell_type": "code",
   "execution_count": 10,
   "metadata": {
    "ExecuteTime": {
     "end_time": "2021-02-25T14:30:08.042719Z",
     "start_time": "2021-02-25T14:30:07.846846Z"
    }
   },
   "outputs": [
    {
     "data": {
      "image/png": "[encoded data removed]",
      "text/plain": [
       "<Figure size 432x288 with 1 Axes>"
      ]
     },
     "metadata": {
      "needs_background": "light"
     },
     "output_type": "display_data"
    }
   ],
   "source": [
    "# Read in data for permittivity = 75\n",
    "\n",
    "distri = np.zeros((37,150))\n",
    "\n",
    "for j in range(50):\n",
    "    path = \"./simulation_data/08_12_20/charges_105/perm_75/calc_{}/average_occupancy.json\".format(j)\n",
    "\n",
    "    distribution_data = format_distribution(path)\n",
    "\n",
    "    distri[:,2 * j] = distribution_data[38:]\n",
    "    distri[:,2 * j + 1] = np.flip(distribution_data[:37])\n",
    "    \n",
    "    all_105_paths[\"permittivity_{}\".format(75)].append(path)\n",
    "    \n",
    "for j in range(25):\n",
    "    path = \"./simulation_data/24_02_21/charges_105/perm_75/calc_{}/average_occupancy.json\".format(j)\n",
    "\n",
    "    distribution_data = format_distribution(path)\n",
    "\n",
    "    distri[:,100+2 * j] = distribution_data[38:]\n",
    "    distri[:,100+2 * j + 1] = np.flip(distribution_data[:37])\n",
    "    \n",
    "    all_105_paths[\"permittivity_{}\".format(75)].append(path)\n",
    "    \n",
    "\n",
    "distributions = np.mean(distri, axis = 1 )\n",
    "\n",
    "err = np.zeros(37)\n",
    "\n",
    "for k in range(37):\n",
    "    err[k] = np.std(distri[k,:])  \n",
    "    \n",
    "all_105_distributions[:,11] = distributions\n",
    "all_105_errors_se[:,11] = err / np.sqrt(150)\n",
    "all_105_errors_sd[:,11] = err \n",
    "\n",
    "\n",
    "x = np.array(range(1,38))*2.5e-10\n",
    "\n",
    "plt.errorbar(x, distributions, err, fmt=\"o\") # error bars are standard deviations\n",
    "plt.xlabel(r\"x / m\")\n",
    "plt.ylabel(r\"Average occupancy of plane\")\n",
    "plt.title(r\"$\\epsilon_{r}$ = \" + str(75))\n",
    "# Uncomment the below out if you wish to view all the individual simulations\n",
    "# for i in range(100):\n",
    "#     plt.plot(x, distri[:,i], '-')\n",
    "\n",
    "plt.show()"
   ]
  },
  {
   "cell_type": "code",
   "execution_count": 11,
   "metadata": {
    "ExecuteTime": {
     "end_time": "2021-02-25T14:30:08.227212Z",
     "start_time": "2021-02-25T14:30:08.045095Z"
    }
   },
   "outputs": [
    {
     "data": {
      "image/png": "[encoded data removed]",
      "text/plain": [
       "<Figure size 432x288 with 1 Axes>"
      ]
     },
     "metadata": {
      "needs_background": "light"
     },
     "output_type": "display_data"
    }
   ],
   "source": [
    "# Read in data for permittivity = 100. \n",
    "\n",
    "distri = np.zeros((37,200))\n",
    "\n",
    "for j in range(40):\n",
    "    path = \"./simulation_data/04_12_20/04_12_20_S/calc_{}/average_occupancy.json\".format(j)\n",
    "\n",
    "    distribution_data = format_distribution(path)\n",
    "\n",
    "    distri[:,2 * j] = distribution_data[38:]\n",
    "    distri[:,2 * j + 1] = np.flip(distribution_data[:37])\n",
    "    \n",
    "    all_105_paths[\"permittivity_{}\".format(100)].append(path)\n",
    "    \n",
    "for j in range(40):\n",
    "    path = \"./simulation_data/04_12_20/04_12_20_for/calc_{}/average_occupancy.json\".format(j)\n",
    "\n",
    "    distribution_data = format_distribution(path)\n",
    "\n",
    "    distri[:,80 + 2 * j] = distribution_data[38:]\n",
    "    distri[:,80 + 2 * j + 1] = np.flip(distribution_data[:37])\n",
    "    \n",
    "    all_105_paths[\"permittivity_{}\".format(100)].append(path)\n",
    "    \n",
    "for j in range(20):\n",
    "    path = \"./simulation_data/04_12_20/04_12_20_J/calc_{}/average_occupancy.json\".format(40+j)\n",
    "\n",
    "    distribution_data = format_distribution(path)\n",
    "\n",
    "    distri[:,160 + 2 * j] = distribution_data[38:]\n",
    "    distri[:,160 + 2 * j + 1] = np.flip(distribution_data[:37])\n",
    "    \n",
    "    all_105_paths[\"permittivity_{}\".format(100)].append(path)\n",
    "\n",
    "\n",
    "\n",
    "distributions = np.mean(distri, axis = 1 )\n",
    "\n",
    "err = np.zeros(37)\n",
    "\n",
    "for k in range(37):\n",
    "    err[k] = np.std(distri[k,:])  \n",
    "\n",
    "all_105_distributions[:,12] = distributions\n",
    "all_105_errors_se[:,12] = err / np.sqrt(200)\n",
    "all_105_errors_sd[:,12] = err \n",
    "\n",
    "x = np.array(range(1,38))*2.5e-10\n",
    "\n",
    "plt.errorbar(x, distributions, err, fmt=\"o\") # error bars are standard deviations \n",
    "plt.xlabel(r\"x / m\")\n",
    "plt.ylabel(r\"Average occupancy of plane\")\n",
    "plt.title(r\"$\\epsilon_{r}$ = \" + str(100))\n",
    "\n",
    "# Uncomment the below out if you wish to view all the individual simulations\n",
    "# for i in range(200):\n",
    "#     plt.plot(x, distri[:,i], '-')\n",
    "\n",
    "plt.show()"
   ]
  },
  {
   "cell_type": "code",
   "execution_count": 12,
   "metadata": {
    "ExecuteTime": {
     "end_time": "2021-02-25T14:30:08.411886Z",
     "start_time": "2021-02-25T14:30:08.230730Z"
    }
   },
   "outputs": [
    {
     "data": {
      "image/png": "[encoded data removed]",
      "text/plain": [
       "<Figure size 432x288 with 1 Axes>"
      ]
     },
     "metadata": {
      "needs_background": "light"
     },
     "output_type": "display_data"
    }
   ],
   "source": [
    "# Read in data for permittivitiy 2\n",
    "\n",
    "distri = np.zeros((37,60))\n",
    "\n",
    "for j in range(30):\n",
    "    path = \"./simulation_data/13_01_21/charges_105/perm_2/calc_{}/average_occupancy.json\".format(j)\n",
    "\n",
    "    distribution_data = format_distribution(path)\n",
    "\n",
    "    distri[:,2 * j] = distribution_data[38:]\n",
    "    distri[:,2 * j + 1] = np.flip(distribution_data[:37])\n",
    "    \n",
    "    all_105_paths[\"permittivity_{}\".format(2)].append(path)\n",
    "\n",
    "\n",
    "\n",
    "distributions = np.mean(distri, axis = 1 )\n",
    "\n",
    "err = np.zeros(37)\n",
    "\n",
    "for k in range(37):\n",
    "    err[k] = np.std(distri[k,:])  \n",
    "\n",
    "all_105_distributions[:,13] = distributions\n",
    "all_105_errors_se[:,13] = err / np.sqrt(60)\n",
    "all_105_errors_sd[:,13] = err \n",
    "\n",
    "\n",
    "x = np.array(range(1,38))*2.5e-10\n",
    "\n",
    "plt.errorbar(x, distributions, err,fmt=\"o\") # error bars are standard deviations \n",
    "plt.xlabel(r\"x / m\")\n",
    "plt.ylabel(r\"Average occupancy of plane\")\n",
    "plt.title(r\"$\\epsilon_{r}$ = \" + str(2))\n",
    "\n",
    "# Uncomment the below out if you wish to view all the individual simulations\n",
    "# for i in range(60):\n",
    "#     plt.plot(x, distri[:,i], '-')\n",
    "\n",
    "plt.show()\n"
   ]
  },
  {
   "cell_type": "code",
   "execution_count": 13,
   "metadata": {},
   "outputs": [
    {
     "data": {
      "image/png": "[encoded data removed]",
      "text/plain": [
       "<Figure size 432x288 with 1 Axes>"
      ]
     },
     "metadata": {
      "needs_background": "light"
     },
     "output_type": "display_data"
    },
    {
     "data": {
      "image/png": "[encoded data removed]",
      "text/plain": [
       "<Figure size 432x288 with 1 Axes>"
      ]
     },
     "metadata": {
      "needs_background": "light"
     },
     "output_type": "display_data"
    }
   ],
   "source": [
    "for h, g in enumerate([65,85]):\n",
    "    distri = np.zeros((37,150))\n",
    "\n",
    "    for j in range(75):\n",
    "        path = \"/Users/jmd80/data_analysis_kmc/16_03_21/charges_105/perm_{}/calc_{}/average_occupancy.json\".format(g,j)\n",
    "\n",
    "        distribution_data = format_distribution(path)\n",
    "\n",
    "        distri[:,2 * j] = distribution_data[38:]\n",
    "        distri[:,2 * j + 1] = np.flip(distribution_data[:37])\n",
    "        all_105_paths[\"permittivity_{}\".format(g)].append(path)\n",
    "        \n",
    "    \n",
    "    distributions = np.mean(distri, axis = 1 )\n",
    "\n",
    "    err = np.zeros(37)\n",
    "\n",
    "    for k in range(37):\n",
    "        err[k] = np.std(distri[k,:])  \n",
    "        \n",
    "    all_105_distributions[:,14+h] = distributions\n",
    "    all_105_errors_se[:,14+h] = err / np.sqrt(60)\n",
    "    all_105_errors_sd[:,14+h] = err \n",
    "\n",
    "\n",
    "    x = np.array(range(1,38))*2.5e-10\n",
    "\n",
    "    plt.errorbar(x, distributions, err, fmt=\"o\")\n",
    "    plt.xlabel(r\"x / m\")\n",
    "    plt.ylabel(r\"Average occupancy of plane\")\n",
    "    plt.title(r\"$\\epsilon_{r}$ = \" + str(g))\n",
    "    \n",
    "    # Uncomment the below out if you wish to view all the individual simulations\n",
    "#     for i in range(150):\n",
    "#         plt.plot(x, distri[:,i], '-')\n",
    "    plt.show()\n"
   ]
  },
  {
   "cell_type": "code",
   "execution_count": 14,
   "metadata": {},
   "outputs": [
    {
     "name": "stdout",
     "output_type": "stream",
     "text": [
      "30\n",
      "30\n",
      "30\n",
      "50\n",
      "50\n",
      "50\n",
      "70\n",
      "50\n",
      "50\n",
      "50\n",
      "75\n",
      "75\n",
      "100\n",
      "30\n",
      "75\n",
      "75\n"
     ]
    }
   ],
   "source": [
    "for i in [1, 4, 7, 10, 13, 16, 19, 22, 25, 28, 50, 75, 100, 2, 65, 85]:\n",
    "    print(len(all_105_paths[\"permittivity_{}\".format(i)]))"
   ]
  },
  {
   "cell_type": "code",
   "execution_count": 15,
   "metadata": {
    "ExecuteTime": {
     "end_time": "2021-02-25T14:30:08.430320Z",
     "start_time": "2021-02-25T14:30:08.415443Z"
    }
   },
   "outputs": [],
   "source": [
    "# Create a json containing the distributions and errors.\n",
    "\n",
    "permittivities = [1, 4, 7, 10, 13, 16, 19, 22, 25, 28, 50, 75, 100, 2, 65, 85]\n",
    "\n",
    "data_dictionary = {}\n",
    "\n",
    "for i in range(14):\n",
    "    data_dictionary[\"distribution_{}\".format(permittivities[i])] = list(all_105_distributions[:,i])\n",
    "    data_dictionary[\"standard_deviations_{}\".format(permittivities[i])] = list(all_105_errors_sd[:,i])\n",
    "    data_dictionary[\"standard_errors_{}\".format(permittivities[i])] = list(all_105_errors_se[:,i])\n",
    "    \n",
    "# with open('105_charges_distributions_errors.json', 'w') as outfile:\n",
    "#     json.dump(data_dictionary, outfile)"
   ]
  },
  {
   "cell_type": "code",
   "execution_count": 16,
   "metadata": {},
   "outputs": [],
   "source": [
    "with open(\"105_charges_paths.json\", 'w') as data:\n",
    "    json.dump(all_105_paths, data)"
   ]
  },
  {
   "cell_type": "markdown",
   "metadata": {},
   "source": [
    "### Create json for systems with 210 charges"
   ]
  },
  {
   "cell_type": "code",
   "execution_count": 17,
   "metadata": {
    "ExecuteTime": {
     "end_time": "2021-02-25T14:30:08.436930Z",
     "start_time": "2021-02-25T14:30:08.432448Z"
    }
   },
   "outputs": [],
   "source": [
    "# Same approach as 105 charges\n",
    "\n",
    "all_210_distributions = np.zeros((37,14))\n",
    "all_210_errors_se = np.zeros((37,14))\n",
    "all_210_errors_sd = np.zeros((37,14))"
   ]
  },
  {
   "cell_type": "code",
   "execution_count": 18,
   "metadata": {},
   "outputs": [],
   "source": [
    "all_210_paths = {}\n",
    "\n",
    "for p in [1, 4, 7, 10, 13, 16, 19, 22, 25, 28, 50, 75, 100, 2]:\n",
    "    all_210_paths[\"permittivity_{}\".format(p)] = []"
   ]
  },
  {
   "cell_type": "code",
   "execution_count": 19,
   "metadata": {
    "ExecuteTime": {
     "end_time": "2021-02-25T14:30:09.342252Z",
     "start_time": "2021-02-25T14:30:08.438900Z"
    }
   },
   "outputs": [
    {
     "data": {
      "image/png": "[encoded data removed]",
      "text/plain": [
       "<Figure size 432x288 with 1 Axes>"
      ]
     },
     "metadata": {
      "needs_background": "light"
     },
     "output_type": "display_data"
    },
    {
     "data": {
      "image/png": "[encoded data removed]",
      "text/plain": [
       "<Figure size 432x288 with 1 Axes>"
      ]
     },
     "metadata": {
      "needs_background": "light"
     },
     "output_type": "display_data"
    },
    {
     "data": {
      "image/png": "[encoded data removed]",
      "text/plain": [
       "<Figure size 432x288 with 1 Axes>"
      ]
     },
     "metadata": {
      "needs_background": "light"
     },
     "output_type": "display_data"
    }
   ],
   "source": [
    "# Read in data for permittivities 1, 4, 7, 10, 13, and 16. \n",
    "\n",
    "for h, g in enumerate([1,4,7]):\n",
    "    distri = np.zeros((37,60))\n",
    "\n",
    "    for j in range(10):\n",
    "        path = \"./simulation_data/27_11_20/charges_210/perm_{}/calc_{}/average_occupancy_mean.json\".format(g,j)\n",
    "\n",
    "        distribution_data = format_distribution(path)\n",
    "\n",
    "        distri[:,2 * j] =  distribution_data[38:]\n",
    "        distri[:,2 * j + 1] = np.flip(distribution_data[:37])\n",
    "        \n",
    "        all_210_paths[\"permittivity_{}\".format(g)].append(path)\n",
    "\n",
    "        \n",
    "        path = \"./simulation_data/07_12_20/charges_210/perm_{}/calc_{}/average_occupancy_mean.json\".format(g,j)\n",
    "\n",
    "        distribution_data = format_distribution(path)\n",
    "\n",
    "        distri[:,20 + 2 * j] =  distribution_data[38:] \n",
    "        distri[:,20 + 2 * j + 1] = np.flip(distribution_data[:37]) \n",
    "        \n",
    "        all_210_paths[\"permittivity_{}\".format(g)].append(path)\n",
    "        \n",
    "\n",
    "    for j in range(5):\n",
    "\n",
    "        path = \"./simulation_data/24_12_20/charges_210/perm_{}/calc_{}/average_occupancy.json\".format(g,j)\n",
    "\n",
    "        distribution_data = format_distribution(path)\n",
    "        \n",
    "\n",
    "        distri[:,40 + 2 * j] = distribution_data[38:]\n",
    "        distri[:,40 + 2 * j + 1] = np.flip(distribution_data[:37])\n",
    "        \n",
    "        all_210_paths[\"permittivity_{}\".format(g)].append(path)\n",
    "\n",
    "        path = \"./simulation_data/25_12_20/charges_210/perm_{}/calc_{}/average_occupancy.json\".format(g,j)\n",
    "\n",
    "        with open(path) as json_file:\n",
    "            data = json.load(json_file)\n",
    "\n",
    "        distribution_data = format_distribution(path)\n",
    "        \n",
    "        all_210_paths[\"permittivity_{}\".format(g)].append(path)\n",
    "\n",
    "        distri[:,50 + 2 * j] = distribution_data[38:]\n",
    "        distri[:,50 + 2 * j + 1] = np.flip(distribution_data[:37])\n",
    "\n",
    "\n",
    "    distributions = np.mean(distri, axis = 1 )\n",
    "    \n",
    "    all_210_distributions[:,h] = distributions\n",
    "\n",
    "    err = np.zeros(37)\n",
    "\n",
    "    for k in range(37):\n",
    "        err[k] = np.std(distri[k,:])  \n",
    "        \n",
    "    all_210_errors_se[:,h] = err / np.sqrt(60)\n",
    "    all_210_errors_sd[:,h] = err \n",
    "\n",
    "\n",
    "    x = np.array(range(1,38))*2.5e-10\n",
    "\n",
    "    plt.errorbar(x, distributions, err, fmt=\"o\") # error bars are standard deviations \n",
    "    plt.xlabel(r\"x / m\")\n",
    "    plt.ylabel(r\"Average occupancy of plane\")\n",
    "    plt.title(r\"$\\epsilon_{r}$ = \" + str(g))\n",
    "    \n",
    "    # Uncomment the below out if you wish to view all the individual simulations\n",
    "#     for i in range(60):\n",
    "#         plt.plot(x, distri[:,i], '-')\n",
    "    plt.show()"
   ]
  },
  {
   "cell_type": "code",
   "execution_count": 20,
   "metadata": {},
   "outputs": [
    {
     "data": {
      "image/png": "[encoded data removed]",
      "text/plain": [
       "<Figure size 432x288 with 1 Axes>"
      ]
     },
     "metadata": {
      "needs_background": "light"
     },
     "output_type": "display_data"
    },
    {
     "data": {
      "image/png": "[encoded data removed]",
      "text/plain": [
       "<Figure size 432x288 with 1 Axes>"
      ]
     },
     "metadata": {
      "needs_background": "light"
     },
     "output_type": "display_data"
    },
    {
     "data": {
      "image/png": "[encoded data removed]",
      "text/plain": [
       "<Figure size 432x288 with 1 Axes>"
      ]
     },
     "metadata": {
      "needs_background": "light"
     },
     "output_type": "display_data"
    }
   ],
   "source": [
    "for h, g in enumerate([10, 13, 16]):\n",
    "    distri = np.zeros((37,100))\n",
    "\n",
    "    for j in range(10):\n",
    "        path = \"./simulation_data/27_11_20/charges_210/perm_{}/calc_{}/average_occupancy_mean.json\".format(g,j)\n",
    "\n",
    "        distribution_data = format_distribution(path)\n",
    "\n",
    "        distri[:,2 * j] =  distribution_data[38:]\n",
    "        distri[:,2 * j + 1] = np.flip(distribution_data[:37])\n",
    "        \n",
    "        all_210_paths[\"permittivity_{}\".format(g)].append(path)\n",
    "\n",
    "        \n",
    "        path = \"./simulation_data/07_12_20/charges_210/perm_{}/calc_{}/average_occupancy_mean.json\".format(g,j)\n",
    "\n",
    "        distribution_data = format_distribution(path)\n",
    "\n",
    "        distri[:,20 + 2 * j] =  distribution_data[38:] \n",
    "        distri[:,20 + 2 * j + 1] = np.flip(distribution_data[:37]) \n",
    "        \n",
    "        all_210_paths[\"permittivity_{}\".format(g)].append(path)\n",
    "        \n",
    "\n",
    "    for j in range(5):\n",
    "\n",
    "        path = \"./simulation_data/24_12_20/charges_210/perm_{}/calc_{}/average_occupancy.json\".format(g,j)\n",
    "\n",
    "        distribution_data = format_distribution(path)\n",
    "        \n",
    "\n",
    "        distri[:,40 + 2 * j] = distribution_data[38:]\n",
    "        distri[:,40 + 2 * j + 1] = np.flip(distribution_data[:37])\n",
    "        \n",
    "        all_210_paths[\"permittivity_{}\".format(g)].append(path)\n",
    "\n",
    "        path = \"./simulation_data/25_12_20/charges_210/perm_{}/calc_{}/average_occupancy.json\".format(g,j)\n",
    "\n",
    "        with open(path) as json_file:\n",
    "            data = json.load(json_file)\n",
    "\n",
    "        distribution_data = format_distribution(path)\n",
    "        \n",
    "        all_210_paths[\"permittivity_{}\".format(g)].append(path)\n",
    "\n",
    "        distri[:,50 + 2 * j] = distribution_data[38:]\n",
    "        distri[:,50 + 2 * j + 1] = np.flip(distribution_data[:37])\n",
    "        \n",
    "    for j in range(20):\n",
    "\n",
    "        path = \"./simulation_data/18_03_21/charges_210/perm_{}/calc_{}/average_occupancy.json\".format(g,j)\n",
    "\n",
    "        distribution_data = format_distribution(path)\n",
    "        \n",
    "\n",
    "        distri[:,60 + 2 * j] = distribution_data[38:]\n",
    "        distri[:,60 + 2 * j + 1] = np.flip(distribution_data[:37])\n",
    "        \n",
    "        all_210_paths[\"permittivity_{}\".format(g)].append(path)\n",
    "\n",
    "\n",
    "    distributions = np.mean(distri, axis = 1 )\n",
    "    \n",
    "    all_210_distributions[:,h+3] = distributions\n",
    "\n",
    "    err = np.zeros(37)\n",
    "\n",
    "    for k in range(37):\n",
    "        err[k] = np.std(distri[k,:])  \n",
    "        \n",
    "    all_210_errors_se[:,3+h] = err / np.sqrt(100)\n",
    "    all_210_errors_sd[:,3+h] = err \n",
    "\n",
    "\n",
    "    x = np.array(range(1,38))*2.5e-10\n",
    "\n",
    "    plt.errorbar(x, distributions, err, fmt=\"o\") # error bars are standard deviations \n",
    "    plt.xlabel(r\"x / m\")\n",
    "    plt.ylabel(r\"Average occupancy of plane\")\n",
    "    plt.title(r\"$\\epsilon_{r}$ = \" + str(g))\n",
    "    \n",
    "    # Uncomment the below out if you wish to view all the individual simulations\n",
    "#     for i in range(100):\n",
    "#         plt.plot(x, distri[:,i], '-')\n",
    "    plt.show()"
   ]
  },
  {
   "cell_type": "code",
   "execution_count": 21,
   "metadata": {},
   "outputs": [
    {
     "data": {
      "image/png": "[encoded data removed]",
      "text/plain": [
       "<Figure size 432x288 with 1 Axes>"
      ]
     },
     "metadata": {
      "needs_background": "light"
     },
     "output_type": "display_data"
    }
   ],
   "source": [
    "for h, g in enumerate([19]):\n",
    "    distri = np.zeros((37,140))\n",
    "\n",
    "    for j in range(10):\n",
    "        path = \"./simulation_data/27_11_20/charges_210/perm_{}/calc_{}/average_occupancy_mean.json\".format(g,j)\n",
    "\n",
    "        distribution_data = format_distribution(path)\n",
    "\n",
    "        distri[:,2 * j] = distribution_data[38:]\n",
    "        distri[:,2 * j + 1] = np.flip(distribution_data[:37])\n",
    "        \n",
    "        all_210_paths[\"permittivity_{}\".format(g)].append(path)\n",
    "        \n",
    "        path = \"./simulation_data/07_12_20/charges_210/perm_{}/calc_{}/average_occupancy_mean.json\".format(g,j)\n",
    "\n",
    "        distribution_data =format_distribution(path)\n",
    "\n",
    "        distri[:,20 + 2 * j] = distribution_data[38:] \n",
    "        distri[:,20 + 2 * j + 1] =np.flip(distribution_data[:37]) \n",
    "        \n",
    "        all_210_paths[\"permittivity_{}\".format(g)].append(path)\n",
    "        \n",
    "\n",
    "    for j in range(5):\n",
    "\n",
    "        path = \"./simulation_data/24_12_20/charges_210/perm_{}/calc_{}/average_occupancy.json\".format(g,j)\n",
    "\n",
    "        distribution_data = format_distribution(path)\n",
    "\n",
    "        distri[:,40 + 2 * j] = distribution_data[38:]\n",
    "        distri[:,40 + 2 * j + 1] = np.flip(distribution_data[:37])\n",
    "        \n",
    "        \n",
    "        all_210_paths[\"permittivity_{}\".format(g)].append(path)\n",
    "\n",
    "        path = \"./simulation_data/25_12_20/charges_210/perm_{}/calc_{}/average_occupancy.json\".format(g,j)\n",
    "\n",
    "        distribution_data = format_distribution(path)\n",
    "\n",
    "        distri[:,50 + 2 * j] = distribution_data[38:]\n",
    "        distri[:,50 + 2 * j + 1] = np.flip(distribution_data[:37])\n",
    "        \n",
    "        all_210_paths[\"permittivity_{}\".format(g)].append(path)\n",
    "        \n",
    "    for j in range(20):\n",
    "\n",
    "        path = \"./simulation_data/06_01_21/charges_210/perm_{}/calc_{}/average_occupancy.json\".format(g,j)\n",
    "\n",
    "        distribution_data = format_distribution(path)\n",
    "\n",
    "        distri[:,60 + 2 * j] = distribution_data[38:]\n",
    "        distri[:,60 + 2 * j + 1] = np.flip(distribution_data[:37])\n",
    "        \n",
    "        all_210_paths[\"permittivity_{}\".format(g)].append(path)\n",
    "        \n",
    "    for j in range(20):\n",
    "\n",
    "        path = \"./simulation_data/18_03_21/charges_210/perm_{}/calc_{}/average_occupancy.json\".format(g,j)\n",
    "\n",
    "        distribution_data = format_distribution(path)\n",
    "\n",
    "        distri[:,100 + 2 * j] = distribution_data[38:]\n",
    "        distri[:,100 + 2 * j + 1] = np.flip(distribution_data[:37])\n",
    "        \n",
    "        all_210_paths[\"permittivity_{}\".format(g)].append(path)\n",
    "\n",
    "        \n",
    "\n",
    "    distributions = np.mean(distri, axis = 1 )\n",
    "    \n",
    "    all_210_distributions[:,h+6] = distributions\n",
    "\n",
    "    err = np.zeros(37)\n",
    "\n",
    "    for k in range(37):\n",
    "        err[k] = np.std(distri[k,:])  \n",
    "        \n",
    "    all_210_errors_se[:,h+6] = err / np.sqrt(140)\n",
    "    all_210_errors_sd[:,h+6] = err \n",
    "\n",
    "\n",
    "    x = np.array(range(1,38))*2.5e-10\n",
    "\n",
    "    plt.errorbar(x, distributions, err, fmt=\"o\") # error bars are standard deviations \n",
    "    plt.xlabel(r\"x / m\")\n",
    "    plt.ylabel(r\"Average occupancy of plane\")\n",
    "    plt.title(r\"$\\epsilon_{r}$ = \" + str(g))\n",
    "    \n",
    "    # Uncomment the below out if you wish to view all the individual simulations\n",
    "#     for i in range(140):\n",
    "#         plt.plot(x, distri[:,i], '-')\n",
    "\n",
    "    plt.show()"
   ]
  },
  {
   "cell_type": "code",
   "execution_count": 22,
   "metadata": {
    "ExecuteTime": {
     "end_time": "2021-02-25T14:30:09.940614Z",
     "start_time": "2021-02-25T14:30:09.344616Z"
    }
   },
   "outputs": [
    {
     "data": {
      "image/png": "[encoded data removed]",
      "text/plain": [
       "<Figure size 432x288 with 1 Axes>"
      ]
     },
     "metadata": {
      "needs_background": "light"
     },
     "output_type": "display_data"
    },
    {
     "data": {
      "image/png": "[encoded data removed]",
      "text/plain": [
       "<Figure size 432x288 with 1 Axes>"
      ]
     },
     "metadata": {
      "needs_background": "light"
     },
     "output_type": "display_data"
    },
    {
     "data": {
      "image/png": "[encoded data removed]",
      "text/plain": [
       "<Figure size 432x288 with 1 Axes>"
      ]
     },
     "metadata": {
      "needs_background": "light"
     },
     "output_type": "display_data"
    }
   ],
   "source": [
    "# Read in data for permittivities  22, 25, and 28. \n",
    "\n",
    "for h, g in enumerate([22,25,28]):\n",
    "    distri = np.zeros((37,100))\n",
    "\n",
    "    for j in range(10):\n",
    "        path = \"./simulation_data/27_11_20/charges_210/perm_{}/calc_{}/average_occupancy_mean.json\".format(g,j)\n",
    "\n",
    "        distribution_data = format_distribution(path)\n",
    "\n",
    "        distri[:,2 * j] = distribution_data[38:]\n",
    "        distri[:,2 * j + 1] = np.flip(distribution_data[:37])\n",
    "        \n",
    "        all_210_paths[\"permittivity_{}\".format(g)].append(path)\n",
    "        \n",
    "        path = \"./simulation_data/07_12_20/charges_210/perm_{}/calc_{}/average_occupancy_mean.json\".format(g,j)\n",
    "\n",
    "        distribution_data =format_distribution(path)\n",
    "\n",
    "        distri[:,20 + 2 * j] = distribution_data[38:] \n",
    "        distri[:,20 + 2 * j + 1] =np.flip(distribution_data[:37]) \n",
    "        \n",
    "        all_210_paths[\"permittivity_{}\".format(g)].append(path)\n",
    "        \n",
    "\n",
    "    for j in range(5):\n",
    "\n",
    "        path = \"./simulation_data/24_12_20/charges_210/perm_{}/calc_{}/average_occupancy.json\".format(g,j)\n",
    "\n",
    "        distribution_data = format_distribution(path)\n",
    "\n",
    "        distri[:,40 + 2 * j] = distribution_data[38:]\n",
    "        distri[:,40 + 2 * j + 1] = np.flip(distribution_data[:37])\n",
    "        \n",
    "        \n",
    "        all_210_paths[\"permittivity_{}\".format(g)].append(path)\n",
    "\n",
    "        path = \"./simulation_data/25_12_20/charges_210/perm_{}/calc_{}/average_occupancy.json\".format(g,j)\n",
    "\n",
    "        distribution_data = format_distribution(path)\n",
    "\n",
    "        distri[:,50 + 2 * j] = distribution_data[38:]\n",
    "        distri[:,50 + 2 * j + 1] = np.flip(distribution_data[:37])\n",
    "        \n",
    "        all_210_paths[\"permittivity_{}\".format(g)].append(path)\n",
    "        \n",
    "    for j in range(20):\n",
    "\n",
    "        path = \"./simulation_data/06_01_21/charges_210/perm_{}/calc_{}/average_occupancy.json\".format(g,j)\n",
    "\n",
    "        distribution_data = format_distribution(path)\n",
    "\n",
    "        distri[:,60 + 2 * j] = distribution_data[38:]\n",
    "        distri[:,60 + 2 * j + 1] = np.flip(distribution_data[:37])\n",
    "        \n",
    "        all_210_paths[\"permittivity_{}\".format(g)].append(path)\n",
    "\n",
    "        \n",
    "\n",
    "    distributions = np.mean(distri, axis = 1 )\n",
    "    \n",
    "    all_210_distributions[:,h+7] = distributions\n",
    "\n",
    "    err = np.zeros(37)\n",
    "\n",
    "    for k in range(37):\n",
    "        err[k] = np.std(distri[k,:])  \n",
    "        \n",
    "    all_210_errors_se[:,h+7] = err / np.sqrt(100)\n",
    "    all_210_errors_sd[:,h+7] = err \n",
    "\n",
    "\n",
    "    x = np.array(range(1,38))*2.5e-10\n",
    "\n",
    "    plt.errorbar(x, distributions, err, fmt=\"o\") # error bars are standard deviations \n",
    "    plt.xlabel(r\"x / m\")\n",
    "    plt.ylabel(r\"Average occupancy of plane\")\n",
    "    plt.title(r\"$\\epsilon_{r}$ = \" + str(g))\n",
    "    \n",
    "    # Uncomment the below out if you wish to view all the individual simulations\n",
    "#     for i in range(100):\n",
    "#         plt.plot(x, distri[:,i], '-')\n",
    "\n",
    "    plt.show()"
   ]
  },
  {
   "cell_type": "code",
   "execution_count": 23,
   "metadata": {
    "ExecuteTime": {
     "end_time": "2021-02-25T14:30:10.082766Z",
     "start_time": "2021-02-25T14:30:09.942904Z"
    }
   },
   "outputs": [
    {
     "data": {
      "image/png": "[encoded data removed]",
      "text/plain": [
       "<Figure size 432x288 with 1 Axes>"
      ]
     },
     "metadata": {
      "needs_background": "light"
     },
     "output_type": "display_data"
    }
   ],
   "source": [
    "# Read in data for permittivity 50. \n",
    "\n",
    "distri = np.zeros((37,100))\n",
    "\n",
    "for j in range(50):\n",
    "    path = \"./simulation_data/07_12_20_S_results/perms_50_75/charges_210/perm_50/calc_{}/average_occupancy.json\".format(j)\n",
    "\n",
    "    distribution_data = format_distribution(path)\n",
    "\n",
    "    distri[:,2 * j] = distribution_data[38:]\n",
    "    distri[:,2 * j + 1] = np.flip(distribution_data[:37])\n",
    "    \n",
    "    all_210_paths[\"permittivity_{}\".format(50)].append(path)\n",
    "\n",
    "\n",
    "distributions = np.mean(distri, axis = 1 )\n",
    "\n",
    "all_210_distributions[:,10] = distributions\n",
    "\n",
    "err = np.zeros(37)\n",
    "\n",
    "for k in range(37):\n",
    "    err[k] = np.std(distri[k,:])  \n",
    "\n",
    "all_210_errors_se[:,10] = err / np.sqrt(100)\n",
    "all_210_errors_sd[:,10] = err \n",
    "\n",
    "\n",
    "x = np.array(range(1,38))*2.5e-10\n",
    "\n",
    "plt.errorbar(x, distributions, err, fmt=\"o\") # error bars are standard deviations \n",
    "plt.xlabel(r\"x / m\")\n",
    "plt.ylabel(r\"Average occupancy of plane\")\n",
    "plt.title(r\"$\\epsilon_{r}$ = \" + str(50))\n",
    "\n",
    "\n",
    "# Uncomment the below out if you wish to view all the individual simulations\n",
    "# for i in range(100):\n",
    "#     plt.plot(x, distri[:,i], '-')\n",
    "\n",
    "plt.show()"
   ]
  },
  {
   "cell_type": "code",
   "execution_count": 24,
   "metadata": {
    "ExecuteTime": {
     "end_time": "2021-02-25T14:30:10.220736Z",
     "start_time": "2021-02-25T14:30:10.084806Z"
    }
   },
   "outputs": [
    {
     "data": {
      "image/png": "[encoded data removed]",
      "text/plain": [
       "<Figure size 432x288 with 1 Axes>"
      ]
     },
     "metadata": {
      "needs_background": "light"
     },
     "output_type": "display_data"
    }
   ],
   "source": [
    "# Read in data for permittivity 75. \n",
    "\n",
    "distri = np.zeros((37,98))\n",
    "\n",
    "for j in range(50):\n",
    "    \n",
    "    # Simulation 13 failed. \n",
    "    if j != 13 and j != 49:\n",
    "        path = \"./simulation_data/07_12_20_S_results/perms_50_75/charges_210/perm_75/calc_{}/average_occupancy.json\".format(j)\n",
    "\n",
    "        distribution_data = format_distribution(path)\n",
    "\n",
    "        distri[:,2 * j] = distribution_data[38:]\n",
    "        distri[:,2 * j + 1] = np.flip(distribution_data[:37])\n",
    "        \n",
    "        all_210_paths[\"permittivity_{}\".format(75)].append(path)\n",
    "\n",
    "    if j == 49:\n",
    "        path = \"./simulation_data/07_12_20_S_results/perms_50_75/charges_210/perm_75/calc_{}/average_occupancy.json\".format(j)\n",
    "        \n",
    "        all_210_paths[\"permittivity_{}\".format(75)].append(path)\n",
    "\n",
    "        distribution_data = format_distribution(path)\n",
    "\n",
    "        distri[:,2 * 13] = distribution_data[38:]\n",
    "        distri[:,2 * 13 + 1] = np.flip(distribution_data[:37])\n",
    "\n",
    "\n",
    "distributions = np.mean(distri, axis = 1 )\n",
    "\n",
    "all_210_distributions[:,11] = distributions\n",
    "\n",
    "err = np.zeros(37)\n",
    "\n",
    "for k in range(37):\n",
    "    err[k] = np.std(distri[k,:])  \n",
    "\n",
    "all_210_errors_se[:,11] = err / np.sqrt(98)\n",
    "all_210_errors_sd[:,11] = err \n",
    "\n",
    "\n",
    "x = np.array(range(1,38))*2.5e-10\n",
    "\n",
    "plt.errorbar(x, distributions, err, fmt=\"o\") # error bars are standard deviations \n",
    "plt.xlabel(r\"x / m\")\n",
    "plt.ylabel(r\"Average occupancy of plane\")\n",
    "plt.title(r\"$\\epsilon_{r}$ = \" + str(75))\n",
    "\n",
    "# Uncomment the below out if you wish to view all the individual simulations\n",
    "# for i in range(98):\n",
    "#     plt.plot(x, distri[:,i], '-')\n",
    "\n",
    "plt.show()"
   ]
  },
  {
   "cell_type": "code",
   "execution_count": 25,
   "metadata": {
    "ExecuteTime": {
     "end_time": "2021-02-25T14:30:10.358063Z",
     "start_time": "2021-02-25T14:30:10.222942Z"
    }
   },
   "outputs": [
    {
     "data": {
      "image/png": "[encoded data removed]",
      "text/plain": [
       "<Figure size 432x288 with 1 Axes>"
      ]
     },
     "metadata": {
      "needs_background": "light"
     },
     "output_type": "display_data"
    }
   ],
   "source": [
    "# Read in data for permittivity 100. \n",
    "\n",
    "distri = np.zeros((37,160))\n",
    "\n",
    "for j in range(80):\n",
    "    path = \"./simulation_data/09_12_20/charges_210/perm_100/calc_{}/average_occupancy.json\".format(j)\n",
    "\n",
    "    distribution_data = format_distribution(path)\n",
    "\n",
    "    distri[:,2 * j] = distribution_data[38:]\n",
    "    distri[:,2 * j + 1] = np.flip(distribution_data[:37])\n",
    "    \n",
    "    all_210_paths[\"permittivity_{}\".format(100)].append(path)\n",
    "\n",
    "\n",
    "distributions = np.mean(distri, axis = 1 )\n",
    "\n",
    "all_210_distributions[:,12] = distributions\n",
    "\n",
    "err = np.zeros(37)\n",
    "\n",
    "for k in range(37):\n",
    "    err[k] = np.std(distri[k,:])  \n",
    "\n",
    "all_210_errors_se[:,12] = err / np.sqrt(160)\n",
    "all_210_errors_sd[:,12] = err \n",
    "\n",
    "\n",
    "x = np.array(range(1,38))*2.5e-10\n",
    "\n",
    "plt.errorbar(x, distributions, err, fmt=\"o\") # error bars are standard deviations \n",
    "plt.xlabel(r\"x / m\")\n",
    "plt.ylabel(r\"Average occupancy of plane\")\n",
    "plt.title(r\"$\\epsilon_{r}$ = \" + str(100))\n",
    "\n",
    "# Uncomment the below out if you wish to view all the individual simulations\n",
    "# for i in range(160):\n",
    "#     plt.plot(x, distri[:,i], '-')\n",
    "\n",
    "plt.show()"
   ]
  },
  {
   "cell_type": "code",
   "execution_count": 26,
   "metadata": {
    "ExecuteTime": {
     "end_time": "2021-02-25T14:30:10.545810Z",
     "start_time": "2021-02-25T14:30:10.360374Z"
    }
   },
   "outputs": [
    {
     "data": {
      "image/png": "[encoded data removed]",
      "text/plain": [
       "<Figure size 432x288 with 1 Axes>"
      ]
     },
     "metadata": {
      "needs_background": "light"
     },
     "output_type": "display_data"
    }
   ],
   "source": [
    "distri = np.zeros((37,60))\n",
    "\n",
    "for j in range(30):\n",
    "    path = \"./simulation_data/13_01_21/charges_210/perm_2/calc_{}/average_occupancy.json\".format(j)\n",
    "\n",
    "    distribution_data = format_distribution(path)\n",
    "\n",
    "    distri[:,2 * j] = distribution_data[38:]\n",
    "    distri[:,2 * j + 1] = np.flip(distribution_data[:37])\n",
    "    \n",
    "    all_210_paths[\"permittivity_{}\".format(2)].append(path)\n",
    "\n",
    "\n",
    "\n",
    "distribution = np.mean(distri, axis = 1 )\n",
    "\n",
    "all_210_distributions[:,13] = distribution\n",
    "\n",
    "err = np.zeros(37)\n",
    "\n",
    "for k in range(37):\n",
    "    err[k] = np.std(distri[k,:])  \n",
    "\n",
    "all_210_errors_se[:,13] = err / np.sqrt(60)\n",
    "all_210_errors_sd[:,13] = err \n",
    "\n",
    "\n",
    "x = np.array(range(1,38))*2.5e-10\n",
    "\n",
    "plt.errorbar(x, distribution, err,fmt=\"o\") # error bars are standard deviations \n",
    "plt.xlabel(r\"x / m\")\n",
    "plt.ylabel(r\"Average occupancy of plane\")\n",
    "plt.title(r\"$\\epsilon_{r}$ = \" + str(2))\n",
    "\n",
    "# Uncomment the below out if you wish to view all the individual simulations\n",
    "# for i in range(60):\n",
    "#     plt.plot(x, distri[:,i], '-')\n",
    "plt.show()\n"
   ]
  },
  {
   "cell_type": "code",
   "execution_count": 27,
   "metadata": {},
   "outputs": [
    {
     "name": "stdout",
     "output_type": "stream",
     "text": [
      "30\n",
      "30\n",
      "30\n",
      "50\n",
      "50\n",
      "50\n",
      "70\n",
      "50\n",
      "50\n",
      "50\n",
      "50\n",
      "49\n",
      "80\n",
      "30\n"
     ]
    }
   ],
   "source": [
    "for i in [1, 4, 7, 10, 13, 16, 19, 22, 25, 28, 50, 75, 100, 2]:\n",
    "    print(len(all_210_paths[\"permittivity_{}\".format(i)]))"
   ]
  },
  {
   "cell_type": "code",
   "execution_count": 28,
   "metadata": {
    "ExecuteTime": {
     "end_time": "2021-02-25T14:30:10.559491Z",
     "start_time": "2021-02-25T14:30:10.548057Z"
    }
   },
   "outputs": [],
   "source": [
    "# Create json containing distributions and errors\n",
    "\n",
    "permittivities = [1, 4, 7, 10, 13, 16, 19, 22, 25, 28, 50, 75, 100, 2]\n",
    "\n",
    "data_dictionary = {}\n",
    "\n",
    "for i in range(14):\n",
    "    data_dictionary[\"distribution_{}\".format(permittivities[i])] = list(all_210_distributions[:,i])\n",
    "    data_dictionary[\"standard_deviations_{}\".format(permittivities[i])] = list(all_210_errors_sd[:,i])\n",
    "    data_dictionary[\"standard_errors_{}\".format(permittivities[i])] = list(all_210_errors_se[:,i])\n",
    "    \n",
    "# with open('210_charges_distributions_errors.json', 'w') as outfile:\n",
    "#     json.dump(data_dictionary, outfile)"
   ]
  },
  {
   "cell_type": "code",
   "execution_count": 29,
   "metadata": {
    "ExecuteTime": {
     "end_time": "2021-03-05T18:47:20.723036Z",
     "start_time": "2021-03-05T18:47:20.491846Z"
    }
   },
   "outputs": [],
   "source": [
    "with open(\"210_charges_paths.json\", 'w') as data:\n",
    "    json.dump(all_210_paths, data)"
   ]
  },
  {
   "cell_type": "markdown",
   "metadata": {},
   "source": [
    "### Create json for systems with 421 charges"
   ]
  },
  {
   "cell_type": "code",
   "execution_count": 30,
   "metadata": {
    "ExecuteTime": {
     "end_time": "2021-02-25T14:30:10.565371Z",
     "start_time": "2021-02-25T14:30:10.561329Z"
    }
   },
   "outputs": [],
   "source": [
    "all_421_distributions = np.zeros((37,14))\n",
    "all_421_errors_se = np.zeros((37,14))\n",
    "all_421_errors_sd = np.zeros((37,14))"
   ]
  },
  {
   "cell_type": "code",
   "execution_count": 31,
   "metadata": {},
   "outputs": [],
   "source": [
    "all_421_paths = {}\n",
    "\n",
    "for p in [1, 4, 7, 10, 13, 16, 19, 22, 25, 28, 50, 75, 100, 2]:\n",
    "    all_421_paths[\"permittivity_{}\".format(p)] = []"
   ]
  },
  {
   "cell_type": "code",
   "execution_count": 32,
   "metadata": {
    "ExecuteTime": {
     "end_time": "2021-02-25T14:30:11.404131Z",
     "start_time": "2021-02-25T14:30:10.567688Z"
    }
   },
   "outputs": [
    {
     "data": {
      "image/png": "[encoded data removed]",
      "text/plain": [
       "<Figure size 432x288 with 1 Axes>"
      ]
     },
     "metadata": {
      "needs_background": "light"
     },
     "output_type": "display_data"
    },
    {
     "data": {
      "image/png": "[encoded data removed]",
      "text/plain": [
       "<Figure size 432x288 with 1 Axes>"
      ]
     },
     "metadata": {
      "needs_background": "light"
     },
     "output_type": "display_data"
    },
    {
     "data": {
      "image/png": "[encoded data removed]",
      "text/plain": [
       "<Figure size 432x288 with 1 Axes>"
      ]
     },
     "metadata": {
      "needs_background": "light"
     },
     "output_type": "display_data"
    }
   ],
   "source": [
    "# Read in data for permittivities 1, 4, 7, 10, 13, and 16. \n",
    "\n",
    "for h, g in enumerate([1,4,7]):\n",
    "    distri = np.zeros((37,60))\n",
    "\n",
    "    for j in range(10):\n",
    "        path = \"./simulation_data/27_11_20_S/charges_421/perm_{}/calc_{}/average_occupancy_mean.json\".format(g,j)\n",
    "\n",
    "        distribution_data = format_distribution(path)\n",
    "\n",
    "        distri[:,2 * j] = distribution_data[38:] \n",
    "        distri[:,2 * j + 1] = np.flip(distribution_data[:37])     \n",
    "        \n",
    "        all_421_paths[\"permittivity_{}\".format(g)].append(path)\n",
    "        \n",
    "        path = \"./simulation_data/07_12_20/charges_421/perm_{}/calc_{}/average_occupancy_mean.json\".format(g,j)\n",
    "\n",
    "        distribution_data = format_distribution(path)\n",
    "\n",
    "        distri[:,20 + 2 * j] = distribution_data[38:] \n",
    "        distri[:,20 + 2 * j + 1] = np.flip(distribution_data[:37]) \n",
    "        \n",
    "        all_421_paths[\"permittivity_{}\".format(g)].append(path)\n",
    "        \n",
    "\n",
    "    for j in range(5):\n",
    "\n",
    "        path = \"./simulation_data/24_12_20/charges_421/perm_{}/calc_{}/average_occupancy.json\".format(g,j)\n",
    "\n",
    "        distribution_data = format_distribution(path)\n",
    "\n",
    "        distri[:,40 + 2 * j] = distribution_data[38:]\n",
    "        distri[:,40 + 2 * j + 1] = np.flip(distribution_data[:37])\n",
    "        \n",
    "        all_421_paths[\"permittivity_{}\".format(g)].append(path)\n",
    "\n",
    "        path = \"./simulation_data/25_12_20/charges_421/perm_{}/calc_{}/average_occupancy.json\".format(g,j)\n",
    "\n",
    "        distribution_data = format_distribution(path)\n",
    "\n",
    "        distri[:,50 + 2 * j] = distribution_data[38:]\n",
    "        distri[:,50 + 2 * j + 1] = np.flip(distribution_data[:37])\n",
    "        \n",
    "        all_421_paths[\"permittivity_{}\".format(g)].append(path)\n",
    "        \n",
    "    distributions = np.mean(distri, axis = 1 )\n",
    "    \n",
    "    all_421_distributions[:,h] = distributions\n",
    "\n",
    "    err = np.zeros(37)\n",
    "\n",
    "    for k in range(37):\n",
    "        err[k] = np.std(distri[k,:])  \n",
    "        \n",
    "    all_421_errors_se[:,h] = err / np.sqrt(60)\n",
    "    all_421_errors_sd[:,h] = err \n",
    "\n",
    "\n",
    "    x = np.array(range(1,38))*2.5e-10\n",
    "\n",
    "    plt.errorbar(x, distributions, err, fmt=\"o\") # error bars are standard deviations \n",
    "    plt.xlabel(r\"x / m\")\n",
    "    plt.ylabel(r\"Average occupancy of plane\")\n",
    "    plt.title(r\"$\\epsilon_{r}$ = \" + str(g))\n",
    "    \n",
    "    # Uncomment the below out if you wish to view all the individual simulations\n",
    "#     for i in range(60):\n",
    "#         plt.plot(x, distri[:,i], '-')\n",
    "\n",
    "    plt.show()"
   ]
  },
  {
   "cell_type": "code",
   "execution_count": 33,
   "metadata": {},
   "outputs": [
    {
     "data": {
      "image/png": "[encoded data removed]",
      "text/plain": [
       "<Figure size 432x288 with 1 Axes>"
      ]
     },
     "metadata": {
      "needs_background": "light"
     },
     "output_type": "display_data"
    },
    {
     "data": {
      "image/png": "[encoded data removed]",
      "text/plain": [
       "<Figure size 432x288 with 1 Axes>"
      ]
     },
     "metadata": {
      "needs_background": "light"
     },
     "output_type": "display_data"
    },
    {
     "data": {
      "image/png": "[encoded data removed]",
      "text/plain": [
       "<Figure size 432x288 with 1 Axes>"
      ]
     },
     "metadata": {
      "needs_background": "light"
     },
     "output_type": "display_data"
    }
   ],
   "source": [
    "for h, g in enumerate([10, 13, 16]):\n",
    "    distri = np.zeros((37,100))\n",
    "\n",
    "    for j in range(10):\n",
    "        path = \"./simulation_data/27_11_20_S/charges_421/perm_{}/calc_{}/average_occupancy_mean.json\".format(g,j)\n",
    "\n",
    "        distribution_data = format_distribution(path)\n",
    "\n",
    "        distri[:,2 * j] = distribution_data[38:] \n",
    "        distri[:,2 * j + 1] = np.flip(distribution_data[:37])     \n",
    "        \n",
    "        all_421_paths[\"permittivity_{}\".format(g)].append(path)\n",
    "        \n",
    "        path = \"./simulation_data/07_12_20/charges_421/perm_{}/calc_{}/average_occupancy_mean.json\".format(g,j)\n",
    "\n",
    "        distribution_data = format_distribution(path)\n",
    "\n",
    "        distri[:,20 + 2 * j] = distribution_data[38:] \n",
    "        distri[:,20 + 2 * j + 1] = np.flip(distribution_data[:37]) \n",
    "        \n",
    "        all_421_paths[\"permittivity_{}\".format(g)].append(path)\n",
    "        \n",
    "\n",
    "    for j in range(5):\n",
    "\n",
    "        path = \"./simulation_data/24_12_20/charges_421/perm_{}/calc_{}/average_occupancy.json\".format(g,j)\n",
    "\n",
    "        distribution_data = format_distribution(path)\n",
    "\n",
    "        distri[:,40 + 2 * j] = distribution_data[38:]\n",
    "        distri[:,40 + 2 * j + 1] = np.flip(distribution_data[:37])\n",
    "        \n",
    "        all_421_paths[\"permittivity_{}\".format(g)].append(path)\n",
    "\n",
    "        path = \"./simulation_data/25_12_20/charges_421/perm_{}/calc_{}/average_occupancy.json\".format(g,j)\n",
    "\n",
    "        distribution_data = format_distribution(path)\n",
    "\n",
    "        distri[:,50 + 2 * j] = distribution_data[38:]\n",
    "        distri[:,50 + 2 * j + 1] = np.flip(distribution_data[:37])\n",
    "        \n",
    "        all_421_paths[\"permittivity_{}\".format(g)].append(path)\n",
    "        \n",
    "    for j in range(20):\n",
    "\n",
    "        path = \"./simulation_data/18_03_21/charges_421/perm_{}/calc_{}/average_occupancy.json\".format(g,j)\n",
    "\n",
    "        distribution_data = format_distribution(path)\n",
    "        \n",
    "\n",
    "        distri[:,60 + 2 * j] = distribution_data[38:]\n",
    "        distri[:,60 + 2 * j + 1] = np.flip(distribution_data[:37])\n",
    "        \n",
    "        all_421_paths[\"permittivity_{}\".format(g)].append(path)\n",
    "        \n",
    "    distributions = np.mean(distri, axis = 1 )\n",
    "    \n",
    "    all_421_distributions[:,h] = distributions\n",
    "\n",
    "    err = np.zeros(37)\n",
    "\n",
    "    for k in range(37):\n",
    "        err[k] = np.std(distri[k,:])  \n",
    "        \n",
    "    all_421_errors_se[:,h] = err / np.sqrt(60)\n",
    "    all_421_errors_sd[:,h] = err \n",
    "\n",
    "\n",
    "    x = np.array(range(1,38))*2.5e-10\n",
    "\n",
    "    plt.errorbar(x, distributions, err, fmt=\"o\") # error bars are standard deviations \n",
    "    plt.xlabel(r\"x / m\")\n",
    "    plt.ylabel(r\"Average occupancy of plane\")\n",
    "    plt.title(r\"$\\epsilon_{r}$ = \" + str(g))\n",
    "    \n",
    "    # Uncomment the below out if you wish to view all the individual simulations\n",
    "#     for i in range(60):\n",
    "#         plt.plot(x, distri[:,i], '-')\n",
    "\n",
    "    plt.show()"
   ]
  },
  {
   "cell_type": "code",
   "execution_count": 34,
   "metadata": {},
   "outputs": [
    {
     "data": {
      "image/png": "[encoded data removed]",
      "text/plain": [
       "<Figure size 432x288 with 1 Axes>"
      ]
     },
     "metadata": {
      "needs_background": "light"
     },
     "output_type": "display_data"
    }
   ],
   "source": [
    "for h, g in enumerate([19]):\n",
    "    distri = np.zeros((37,140))\n",
    "\n",
    "    for j in range(10):\n",
    "        path = \"./simulation_data/27_11_20_S/charges_421/perm_{}/calc_{}/average_occupancy_mean.json\".format(g,j)\n",
    "\n",
    "        distribution_data = format_distribution(path)\n",
    "\n",
    "\n",
    "        distri[:,2 * j] = distribution_data[38:] \n",
    "        distri[:,2 * j + 1] = np.flip(distribution_data[:37])\n",
    "        \n",
    "        all_421_paths[\"permittivity_{}\".format(g)].append(path)\n",
    "\n",
    "        \n",
    "        path = \"./simulation_data/07_12_20/charges_421/perm_{}/calc_{}/average_occupancy_mean.json\".format(g,j)\n",
    "\n",
    "        distribution_data = format_distribution(path)\n",
    "\n",
    "\n",
    "        distri[:,20 + 2 * j] = distribution_data[38:] \n",
    "        distri[:,20 + 2 * j + 1] = np.flip(distribution_data[:37]) \n",
    "        \n",
    "        all_421_paths[\"permittivity_{}\".format(g)].append(path)\n",
    "        \n",
    "\n",
    "    for j in range(5):\n",
    "\n",
    "        path = \"./simulation_data/24_12_20/charges_421/perm_{}/calc_{}/average_occupancy.json\".format(g,j)\n",
    "\n",
    "        distribution_data = format_distribution(path)\n",
    "\n",
    "        distri[:,40 + 2 * j] = distribution_data[38:]\n",
    "        distri[:,40 + 2 * j + 1] = np.flip(distribution_data[:37])\n",
    "        \n",
    "        all_421_paths[\"permittivity_{}\".format(g)].append(path)\n",
    "\n",
    "        path = \"./simulation_data/25_12_20/charges_421/perm_{}/calc_{}/average_occupancy.json\".format(g,j)\n",
    "\n",
    "        distribution_data = format_distribution(path)\n",
    "\n",
    "        distri[:,50 + 2 * j] = distribution_data[38:]\n",
    "        distri[:,50 + 2 * j + 1] = np.flip(distribution_data[:37])\n",
    "        \n",
    "        all_421_paths[\"permittivity_{}\".format(g)].append(path)\n",
    "        \n",
    "    for j in range(20):\n",
    "\n",
    "        path = \"./simulation_data/06_01_21/charges_421/perm_{}/calc_{}/average_occupancy.json\".format(g,j)\n",
    "\n",
    "        distribution_data = format_distribution(path)\n",
    "\n",
    "        distri[:,60 + 2 * j] = distribution_data[38:]\n",
    "        distri[:,60 + 2 * j + 1] = np.flip(distribution_data[:37])\n",
    "        \n",
    "        all_421_paths[\"permittivity_{}\".format(g)].append(path)\n",
    "        \n",
    "    for j in range(20):\n",
    "\n",
    "        path = \"./simulation_data/18_03_21/charges_421/perm_{}/calc_{}/average_occupancy.json\".format(g,j)\n",
    "\n",
    "        distribution_data = format_distribution(path)\n",
    "        \n",
    "\n",
    "        distri[:,100 + 2 * j] = distribution_data[38:]\n",
    "        distri[:,100 + 2 * j + 1] = np.flip(distribution_data[:37])\n",
    "        \n",
    "        all_421_paths[\"permittivity_{}\".format(g)].append(path)\n",
    "\n",
    "\n",
    "    distributions = np.mean(distri, axis = 1 )\n",
    "    \n",
    "    all_421_distributions[:,h+6] = distributions\n",
    "\n",
    "    err = np.zeros(37)\n",
    "\n",
    "    for k in range(37):\n",
    "        err[k] = np.std(distri[k,:])  \n",
    "        \n",
    "    all_421_errors_se[:,h+6] = err / np.sqrt(100)\n",
    "    all_421_errors_sd[:,h+6] = err \n",
    "\n",
    "\n",
    "    x = np.array(range(1,38))*2.5e-10\n",
    "\n",
    "    plt.errorbar(x, distributions, err, fmt=\"o\") # error bars are standard deviations \n",
    "    plt.xlabel(r\"x / m\")\n",
    "    plt.ylabel(r\"Average occupancy of plane\")\n",
    "    plt.title(r\"$\\epsilon_{r}$ = \" + str(g))\n",
    "    \n",
    "    # Uncomment the below out if you wish to view all the individual simulations\n",
    "#     for i in range(100):\n",
    "#         plt.plot(x, distri[:,i], '-')\n",
    "\n",
    "    plt.show()"
   ]
  },
  {
   "cell_type": "code",
   "execution_count": 35,
   "metadata": {
    "ExecuteTime": {
     "end_time": "2021-02-25T14:30:11.970912Z",
     "start_time": "2021-02-25T14:30:11.406627Z"
    }
   },
   "outputs": [
    {
     "data": {
      "image/png": "[encoded data removed]",
      "text/plain": [
       "<Figure size 432x288 with 1 Axes>"
      ]
     },
     "metadata": {
      "needs_background": "light"
     },
     "output_type": "display_data"
    },
    {
     "data": {
      "image/png": "[encoded data removed]",
      "text/plain": [
       "<Figure size 432x288 with 1 Axes>"
      ]
     },
     "metadata": {
      "needs_background": "light"
     },
     "output_type": "display_data"
    },
    {
     "data": {
      "image/png": "[encoded data removed]",
      "text/plain": [
       "<Figure size 432x288 with 1 Axes>"
      ]
     },
     "metadata": {
      "needs_background": "light"
     },
     "output_type": "display_data"
    }
   ],
   "source": [
    "for h, g in enumerate([22,25,28]):\n",
    "    distri = np.zeros((37,100))\n",
    "\n",
    "    for j in range(10):\n",
    "        path = \"./simulation_data/27_11_20_S/charges_421/perm_{}/calc_{}/average_occupancy_mean.json\".format(g,j)\n",
    "\n",
    "        distribution_data = format_distribution(path)\n",
    "\n",
    "\n",
    "        distri[:,2 * j] = distribution_data[38:] \n",
    "        distri[:,2 * j + 1] = np.flip(distribution_data[:37])\n",
    "        \n",
    "        all_421_paths[\"permittivity_{}\".format(g)].append(path)\n",
    "\n",
    "        \n",
    "        path = \"./simulation_data/07_12_20/charges_421/perm_{}/calc_{}/average_occupancy_mean.json\".format(g,j)\n",
    "\n",
    "        distribution_data = format_distribution(path)\n",
    "\n",
    "\n",
    "        distri[:,20 + 2 * j] = distribution_data[38:] \n",
    "        distri[:,20 + 2 * j + 1] = np.flip(distribution_data[:37]) \n",
    "        \n",
    "        all_421_paths[\"permittivity_{}\".format(g)].append(path)\n",
    "        \n",
    "\n",
    "    for j in range(5):\n",
    "\n",
    "        path = \"./simulation_data/24_12_20/charges_421/perm_{}/calc_{}/average_occupancy.json\".format(g,j)\n",
    "\n",
    "        distribution_data = format_distribution(path)\n",
    "\n",
    "        distri[:,40 + 2 * j] = distribution_data[38:]\n",
    "        distri[:,40 + 2 * j + 1] = np.flip(distribution_data[:37])\n",
    "        \n",
    "        all_421_paths[\"permittivity_{}\".format(g)].append(path)\n",
    "\n",
    "        path = \"./simulation_data/25_12_20/charges_421/perm_{}/calc_{}/average_occupancy.json\".format(g,j)\n",
    "\n",
    "        distribution_data = format_distribution(path)\n",
    "\n",
    "        distri[:,50 + 2 * j] = distribution_data[38:]\n",
    "        distri[:,50 + 2 * j + 1] = np.flip(distribution_data[:37])\n",
    "        \n",
    "        all_421_paths[\"permittivity_{}\".format(g)].append(path)\n",
    "        \n",
    "    for j in range(20):\n",
    "\n",
    "        path = \"./simulation_data/06_01_21/charges_421/perm_{}/calc_{}/average_occupancy.json\".format(g,j)\n",
    "\n",
    "        distribution_data = format_distribution(path)\n",
    "\n",
    "        distri[:,60 + 2 * j] = distribution_data[38:]\n",
    "        distri[:,60 + 2 * j + 1] = np.flip(distribution_data[:37])\n",
    "        \n",
    "        all_421_paths[\"permittivity_{}\".format(g)].append(path)\n",
    "\n",
    "\n",
    "    distributions = np.mean(distri, axis = 1 )\n",
    "    \n",
    "    all_421_distributions[:,h+6] = distributions\n",
    "\n",
    "    err = np.zeros(37)\n",
    "\n",
    "    for k in range(37):\n",
    "        err[k] = np.std(distri[k,:])  \n",
    "        \n",
    "    all_421_errors_se[:,h+6] = err / np.sqrt(100)\n",
    "    all_421_errors_sd[:,h+6] = err \n",
    "\n",
    "\n",
    "    x = np.array(range(1,38))*2.5e-10\n",
    "\n",
    "    plt.errorbar(x, distributions, err, fmt=\"o\") # error bars are standard deviations \n",
    "    plt.xlabel(r\"x / m\")\n",
    "    plt.ylabel(r\"Average occupancy of plane\")\n",
    "    plt.title(r\"$\\epsilon_{r}$ = \" + str(g))\n",
    "    \n",
    "    # Uncomment the below out if you wish to view all the individual simulations\n",
    "#     for i in range(100):\n",
    "#         plt.plot(x, distri[:,i], '-')\n",
    "\n",
    "    plt.show()"
   ]
  },
  {
   "cell_type": "code",
   "execution_count": 36,
   "metadata": {
    "ExecuteTime": {
     "end_time": "2021-02-25T14:30:12.115227Z",
     "start_time": "2021-02-25T14:30:11.973765Z"
    }
   },
   "outputs": [
    {
     "data": {
      "image/png": "[encoded data removed]",
      "text/plain": [
       "<Figure size 432x288 with 1 Axes>"
      ]
     },
     "metadata": {
      "needs_background": "light"
     },
     "output_type": "display_data"
    }
   ],
   "source": [
    "# Read in data for permittivity 50. \n",
    "\n",
    "distri = np.zeros((37,150))\n",
    "\n",
    "s = 0 \n",
    "for j in range(1,47):\n",
    "    # Simulations 0, 36 and 42 failed\n",
    "    if j != 36 and j != 46 and j != 42 and j != 45:\n",
    "        path = \"./simulation_data/07_12_20_S_results/perms_50_75/charges_421/perm_50/calc_{}/average_occupancy.json\".format(j)\n",
    "\n",
    "        distribution_data = format_distribution(path)\n",
    "\n",
    "        distri[:,2 * j] = distribution_data[38:]\n",
    "        distri[:,2 * j + 1] = np.flip(distribution_data[:37])\n",
    "        \n",
    "        all_421_paths[\"permittivity_{}\".format(50)].append(path)\n",
    "        \n",
    "    if j == 45:\n",
    "        path = \"./simulation_data/07_12_20_S_results/perms_50_75/charges_421/perm_50/calc_{}/average_occupancy.json\".format(j)\n",
    "\n",
    "        distribution_data = format_distribution(path)\n",
    "\n",
    "        distri[:,2 * 36] = distribution_data[38:]\n",
    "        distri[:,2 * 36 + 1] = np.flip(distribution_data[:37])\n",
    "        \n",
    "        all_421_paths[\"permittivity_{}\".format(50)].append(path)\n",
    "       \n",
    "    if j == 46:\n",
    "        path = \"./simulation_data/07_12_20_S_results/perms_50_75/charges_421/perm_50/calc_{}/average_occupancy.json\".format(j)\n",
    "\n",
    "        distribution_data = format_distribution(path)\n",
    "\n",
    "        distri[:,2 * 42] = distribution_data[38:]\n",
    "        distri[:,2 * 42 + 1] = np.flip(distribution_data[:37])\n",
    "        \n",
    "        all_421_paths[\"permittivity_{}\".format(50)].append(path)\n",
    "        \n",
    "for j in range(31):\n",
    "\n",
    "    path = \"./simulation_data/23_03_21/charges_421/perm_50/calc_{}/average_occupancy.json\".format(j)\n",
    "\n",
    "    distribution_data = format_distribution(path)\n",
    "\n",
    "    distri[:,88 + 2 * j] = distribution_data[38:]\n",
    "    distri[:,88 + 2 * j + 1] = np.flip(distribution_data[:37])\n",
    "\n",
    "    all_421_paths[\"permittivity_{}\".format(50)].append(path)\n",
    "        \n",
    "\n",
    "# There is no calc 0 so remove first two \"distributions\" which are empty\n",
    "distri = np.delete(distri, 0,1)\n",
    "distri = np.delete(distri, 0,1)\n",
    "\n",
    "distributions = np.mean(distri, axis = 1 )\n",
    "\n",
    "all_421_distributions[:,10] = distributions\n",
    "\n",
    "err = np.zeros(37)\n",
    "\n",
    "for k in range(37):\n",
    "    err[k] = np.std(distri[k,:])  \n",
    "\n",
    "all_421_errors_se[:,10] = err / np.sqrt(148)\n",
    "all_421_errors_sd[:,10] = err \n",
    "\n",
    "x = np.array(range(1,38))*2.5e-10\n",
    "\n",
    "plt.errorbar(x, distributions, err, fmt=\"o\") # error bars are standard deviations \n",
    "plt.xlabel(r\"x / m\")\n",
    "plt.ylabel(r\"Average occupancy of plane\")\n",
    "plt.title(r\"$\\epsilon_{r}$ = \" + str(50))\n",
    "\n",
    "# Uncomment the below out if you wish to view all the individual simulations\n",
    "# for i in range(148):\n",
    "#     plt.plot(x, distri[:,i], '-')\n",
    "plt.show()"
   ]
  },
  {
   "cell_type": "code",
   "execution_count": 37,
   "metadata": {
    "ExecuteTime": {
     "end_time": "2021-02-25T14:30:12.248900Z",
     "start_time": "2021-02-25T14:30:12.117404Z"
    }
   },
   "outputs": [
    {
     "data": {
      "image/png": "[encoded data removed]",
      "text/plain": [
       "<Figure size 432x288 with 1 Axes>"
      ]
     },
     "metadata": {
      "needs_background": "light"
     },
     "output_type": "display_data"
    }
   ],
   "source": [
    "# Read in data for permittivity 75. \n",
    "\n",
    "distri = np.zeros((37,150))\n",
    "\n",
    "for j in range(50):\n",
    "    path = \"./simulation_data/07_12_20_S_results/perms_50_75/charges_421/perm_75/calc_{}/average_occupancy.json\".format(j)\n",
    "\n",
    "    distribution_data = format_distribution(path)\n",
    "\n",
    "    distri[:,2 * j] = distribution_data[38:]\n",
    "    distri[:,2 * j + 1] = np.flip(distribution_data[:37])\n",
    "    \n",
    "    all_421_paths[\"permittivity_{}\".format(75)].append(path)\n",
    "    \n",
    "for j in range(25):\n",
    "\n",
    "        path = \"./simulation_data/23_03_21/charges_421/perm_50/calc_{}/average_occupancy.json\".format(j)\n",
    "\n",
    "        distribution_data = format_distribution(path)\n",
    "\n",
    "        distri[:,100+ + 2 * j] = distribution_data[38:]\n",
    "        distri[:,100 + 2 * j + 1] = np.flip(distribution_data[:37])\n",
    "        \n",
    "        all_421_paths[\"permittivity_{}\".format(75)].append(path)\n",
    "\n",
    "\n",
    "distributions = np.mean(distri, axis = 1 )\n",
    "\n",
    "all_421_distributions[:,11] = distributions\n",
    "\n",
    "err = np.zeros(37)\n",
    "\n",
    "for k in range(37):\n",
    "    err[k] = np.std(distri[k,:])  \n",
    "\n",
    "all_421_errors_se[:,11] = err / np.sqrt(150)\n",
    "all_421_errors_sd[:,11] = err \n",
    "\n",
    "\n",
    "x = np.array(range(1,38))*2.5e-10\n",
    "\n",
    "plt.errorbar(x, distributions, err, fmt=\"o\")\n",
    "plt.xlabel(r\"x / m\")\n",
    "plt.ylabel(r\"Average occupancy of plane\")\n",
    "plt.title(r\"$\\epsilon_{r}$ = \" + str(75))\n",
    "\n",
    "# Uncomment the below out if you wish to view all the individual simulations\n",
    "# for i in range(150):\n",
    "#     plt.plot(x, distri[:,i], '-')\n",
    "    \n",
    "plt.show()"
   ]
  },
  {
   "cell_type": "code",
   "execution_count": 38,
   "metadata": {
    "ExecuteTime": {
     "end_time": "2021-02-25T14:30:12.422157Z",
     "start_time": "2021-02-25T14:30:12.253444Z"
    }
   },
   "outputs": [
    {
     "data": {
      "image/png": "[encoded data removed]",
      "text/plain": [
       "<Figure size 432x288 with 1 Axes>"
      ]
     },
     "metadata": {
      "needs_background": "light"
     },
     "output_type": "display_data"
    }
   ],
   "source": [
    "# Read in data for permittivity 100. \n",
    "\n",
    "distri = np.zeros((37,160))\n",
    "\n",
    "for j in range(80):\n",
    "    path = \"./simulation_data/07_12_20_S_results/perm_100/charges_421/perm_100/calc_{}/average_occupancy.json\".format(j)\n",
    "\n",
    "    distribution_data = format_distribution(path)\n",
    "\n",
    "    distri[:,2 * j] = distribution_data[38:]\n",
    "    distri[:,2 * j + 1] = np.flip(distribution_data[:37])\n",
    "    \n",
    "    all_421_paths[\"permittivity_{}\".format(100)].append(path)\n",
    "\n",
    "\n",
    "distributions = np.mean(distri, axis = 1 )\n",
    "\n",
    "all_421_distributions[:,12] = distributions\n",
    "\n",
    "err = np.zeros(37)\n",
    "\n",
    "for k in range(37):\n",
    "    err[k] = np.std(distri[k,:])  \n",
    "\n",
    "all_421_errors_se[:,12] = err / np.sqrt(160)\n",
    "all_421_errors_sd[:,12] = err \n",
    "\n",
    "\n",
    "x = np.array(range(1,38))*2.5e-10\n",
    "\n",
    "plt.errorbar(x, distributions, err, fmt=\"o\") # error bars are standard deviations \n",
    "plt.xlabel(r\"x / m\")\n",
    "plt.ylabel(r\"Average occupancy of plane\")\n",
    "plt.title(r\"$\\epsilon_{r}$ = \" + str(100))\n",
    "\n",
    "# Uncomment the below out if you wish to view all the individual simulations\n",
    "# for i in range(160):\n",
    "#     plt.plot(x, distri[:,i], '-')\n",
    "    \n",
    "plt.show()"
   ]
  },
  {
   "cell_type": "code",
   "execution_count": 39,
   "metadata": {
    "ExecuteTime": {
     "end_time": "2021-02-25T14:30:12.602006Z",
     "start_time": "2021-02-25T14:30:12.425073Z"
    }
   },
   "outputs": [
    {
     "data": {
      "image/png": "[encoded data removed]",
      "text/plain": [
       "<Figure size 432x288 with 1 Axes>"
      ]
     },
     "metadata": {
      "needs_background": "light"
     },
     "output_type": "display_data"
    }
   ],
   "source": [
    "distri = np.zeros((37,60))\n",
    "\n",
    "for j in range(30):\n",
    "    path = \"./simulation_data/13_01_21/charges_421/perm_2/calc_{}/average_occupancy.json\".format(j)\n",
    "\n",
    "    distribution_data = format_distribution(path)\n",
    "\n",
    "    distri[:,2 * j] = distribution_data[38:]\n",
    "    distri[:,2 * j + 1] = np.flip(distribution_data[:37])\n",
    "    \n",
    "    all_421_paths[\"permittivity_{}\".format(2)].append(path)\n",
    "\n",
    "\n",
    "\n",
    "distributions = np.mean(distri, axis = 1 )\n",
    "\n",
    "all_421_distributions[:,13] = distributions\n",
    "\n",
    "err = np.zeros(37)\n",
    "\n",
    "for k in range(37):\n",
    "    err[k] = np.std(distri[k,:])  \n",
    "\n",
    "all_421_errors_se[:,13] = err / np.sqrt(60)\n",
    "all_421_errors_sd[:,13] = err \n",
    "\n",
    "\n",
    "x = np.array(range(1,38))*2.5e-10\n",
    "\n",
    "plt.errorbar(x, distributions, err, fmt=\"o\") # error bars are standard deviations \n",
    "plt.xlabel(r\"x / m\")\n",
    "plt.ylabel(r\"Average occupancy of plane\")\n",
    "plt.title(r\"$\\epsilon_{r}$ = \" + str(2))\n",
    "\n",
    "# Uncomment the below out if you wish to view all the individual simulations\n",
    "# for i in range(60):\n",
    "#     plt.plot(x, distri[:,i], '-')\n",
    "    \n",
    "plt.show()"
   ]
  },
  {
   "cell_type": "code",
   "execution_count": 40,
   "metadata": {},
   "outputs": [
    {
     "name": "stdout",
     "output_type": "stream",
     "text": [
      "30\n",
      "30\n",
      "30\n",
      "50\n",
      "50\n",
      "50\n",
      "70\n",
      "50\n",
      "50\n",
      "50\n",
      "75\n",
      "75\n",
      "80\n",
      "30\n"
     ]
    }
   ],
   "source": [
    "for i in [1, 4, 7, 10, 13, 16, 19, 22, 25, 28, 50, 75, 100, 2]:\n",
    "    print(len(all_421_paths[\"permittivity_{}\".format(i)]))"
   ]
  },
  {
   "cell_type": "code",
   "execution_count": 41,
   "metadata": {},
   "outputs": [],
   "source": [
    "with open(\"421_charges_paths.json\", 'w') as data:\n",
    "    json.dump(all_421_paths, data)"
   ]
  },
  {
   "cell_type": "code",
   "execution_count": 42,
   "metadata": {
    "ExecuteTime": {
     "end_time": "2021-02-25T14:30:12.616413Z",
     "start_time": "2021-02-25T14:30:12.604174Z"
    }
   },
   "outputs": [],
   "source": [
    "# Create json containing distributions and errors\n",
    "\n",
    "permittivities = [1, 4, 7, 10, 13, 16, 19, 22, 25, 28, 50, 75, 100, 2]\n",
    "\n",
    "data_dictionary = {}\n",
    "\n",
    "for i in range(14):\n",
    "    data_dictionary[\"distribution_{}\".format(permittivities[i])] = list(all_421_distributions[:,i])\n",
    "    data_dictionary[\"standard_deviations_{}\".format(permittivities[i])] = list(all_421_errors_sd[:,i])\n",
    "    data_dictionary[\"standard_errors_{}\".format(permittivities[i])] = list(all_421_errors_se[:,i])"
   ]
  },
  {
   "cell_type": "markdown",
   "metadata": {},
   "source": [
    "### Create json for systems with 2109 charges"
   ]
  },
  {
   "cell_type": "code",
   "execution_count": 43,
   "metadata": {
    "ExecuteTime": {
     "end_time": "2021-02-25T14:30:12.622829Z",
     "start_time": "2021-02-25T14:30:12.618226Z"
    }
   },
   "outputs": [],
   "source": [
    "all_2109_distributions = np.zeros((37,14))\n",
    "\n",
    "all_2109_errors_se = np.zeros((37,14))\n",
    "\n",
    "all_2109_errors_sd = np.zeros((37,14))"
   ]
  },
  {
   "cell_type": "code",
   "execution_count": 44,
   "metadata": {},
   "outputs": [],
   "source": [
    "all_2109_paths = {}\n",
    "\n",
    "for p in [1, 4, 7, 10, 13, 16, 19, 22, 25, 28, 50, 75, 100, 2]:\n",
    "    all_2109_paths[\"permittivity_{}\".format(p)] = []"
   ]
  },
  {
   "cell_type": "code",
   "execution_count": 45,
   "metadata": {
    "ExecuteTime": {
     "end_time": "2021-02-25T14:30:13.296879Z",
     "start_time": "2021-02-25T14:30:12.624670Z"
    }
   },
   "outputs": [
    {
     "data": {
      "image/png": "[encoded data removed]",
      "text/plain": [
       "<Figure size 432x288 with 1 Axes>"
      ]
     },
     "metadata": {
      "needs_background": "light"
     },
     "output_type": "display_data"
    },
    {
     "data": {
      "image/png": "[encoded data removed]",
      "text/plain": [
       "<Figure size 432x288 with 1 Axes>"
      ]
     },
     "metadata": {
      "needs_background": "light"
     },
     "output_type": "display_data"
    },
    {
     "data": {
      "image/png": "[encoded data removed]",
      "text/plain": [
       "<Figure size 432x288 with 1 Axes>"
      ]
     },
     "metadata": {
      "needs_background": "light"
     },
     "output_type": "display_data"
    },
    {
     "data": {
      "image/png": "[encoded data removed]",
      "text/plain": [
       "<Figure size 432x288 with 1 Axes>"
      ]
     },
     "metadata": {
      "needs_background": "light"
     },
     "output_type": "display_data"
    },
    {
     "data": {
      "image/png": "[encoded data removed]",
      "text/plain": [
       "<Figure size 432x288 with 1 Axes>"
      ]
     },
     "metadata": {
      "needs_background": "light"
     },
     "output_type": "display_data"
    }
   ],
   "source": [
    "# Read in data for permittivities 4, 7,  13, 16, and 19. \n",
    "\n",
    "for h, g in enumerate([4,7,13,16,19]):\n",
    "    distri = np.zeros((37,60))\n",
    "\n",
    "    for j in range(30):\n",
    "        path = \"./simulation_data/28_01_21/charges_2109/perm_{}/calc_{}/average_occupancy.json\".format(g,j)\n",
    "\n",
    "        distribution_data = format_distribution(path)\n",
    "\n",
    "        distri[:,2 * j] = distribution_data[38:]\n",
    "        distri[:,2 * j + 1] = np.flip(distribution_data[:37])\n",
    "        \n",
    "        all_2109_paths[\"permittivity_{}\".format(g)].append(path)\n",
    "\n",
    "\n",
    "    i = [1,2,4,5,6]\n",
    "    \n",
    "    distributions = np.mean(distri, axis = 1 )\n",
    "    \n",
    "    all_2109_distributions[:,i[h]] = distributions\n",
    "\n",
    "    err = np.zeros(37)\n",
    "\n",
    "    for k in range(37):\n",
    "        err[k] = np.std(distri[k,:])  \n",
    "        \n",
    "    all_2109_errors_se[:,i[h]] = err / np.sqrt(60)\n",
    "    all_2109_errors_sd[:,i[h]] = err \n",
    "\n",
    "\n",
    "    x = np.array(range(1,38))*2.5e-10\n",
    "\n",
    "    plt.errorbar(x, distributions, err, fmt=\"o\")\n",
    "    plt.xlabel(r\"x / m\")\n",
    "    plt.ylabel(r\"Average occupancy of plane\")\n",
    "    plt.title(r\"$\\epsilon_{r}$ = \" + str(g))\n",
    "    \n",
    "    # Uncomment the below out if you wish to view all the individual simulations\n",
    "#     for i in range(60):\n",
    "#         plt.plot(x, distri[:,i], '-')\n",
    "    plt.show()\n"
   ]
  },
  {
   "cell_type": "code",
   "execution_count": 46,
   "metadata": {
    "ExecuteTime": {
     "end_time": "2021-02-25T14:30:13.727910Z",
     "start_time": "2021-02-25T14:30:13.299018Z"
    }
   },
   "outputs": [
    {
     "data": {
      "image/png": "[encoded data removed]",
      "text/plain": [
       "<Figure size 432x288 with 1 Axes>"
      ]
     },
     "metadata": {
      "needs_background": "light"
     },
     "output_type": "display_data"
    },
    {
     "data": {
      "image/png": "[encoded data removed]",
      "text/plain": [
       "<Figure size 432x288 with 1 Axes>"
      ]
     },
     "metadata": {
      "needs_background": "light"
     },
     "output_type": "display_data"
    },
    {
     "data": {
      "image/png": "[encoded data removed]",
      "text/plain": [
       "<Figure size 432x288 with 1 Axes>"
      ]
     },
     "metadata": {
      "needs_background": "light"
     },
     "output_type": "display_data"
    }
   ],
   "source": [
    "# Read in data for permittivities 22, 25, and 28. \n",
    "\n",
    "for h, g in enumerate([22,25,28]):\n",
    "    distri = np.zeros((37,60))\n",
    "\n",
    "    for j in range(30):\n",
    "        path = \"./simulation_data/29_01_21/charges_2109/perm_{}/calc_{}/average_occupancy.json\".format(g,j)\n",
    "\n",
    "        distribution_data = format_distribution(path)\n",
    "\n",
    "        distri[:,2 * j] = distribution_data[38:]\n",
    "        distri[:,2 * j + 1] = np.flip(distribution_data[:37])\n",
    "        \n",
    "        all_2109_paths[\"permittivity_{}\".format(g)].append(path)\n",
    "\n",
    "\n",
    "    i = [7,8,9]\n",
    "    \n",
    "    distributions = np.mean(distri, axis = 1 )\n",
    "    \n",
    "    all_2109_distributions[:,i[h]] = distributions\n",
    "\n",
    "    err = np.zeros(37)\n",
    "\n",
    "    for k in range(37):\n",
    "        err[k] = np.std(distri[k,:])  \n",
    "        \n",
    "    all_2109_errors_se[:,i[h]] = err / np.sqrt(60)\n",
    "    all_2109_errors_sd[:,i[h]] = err \n",
    "\n",
    "\n",
    "    x = np.array(range(1,38))*2.5e-10\n",
    "\n",
    "    plt.errorbar(x, distributions, err, fmt=\"o\") # error bars are standard deviations \n",
    "    plt.xlabel(r\"x / m\")\n",
    "    plt.ylabel(r\"Average occupancy of plane\")\n",
    "    plt.title(r\"$\\epsilon_{r}$ = \" + str(g))\n",
    "    \n",
    "    # Uncomment the below out if you wish to view all the individual simulations\n",
    "#     for i in range(60):\n",
    "#         plt.plot(x, distri[:,i], '-')\n",
    "\n",
    "    plt.show()\n"
   ]
  },
  {
   "cell_type": "code",
   "execution_count": 47,
   "metadata": {
    "ExecuteTime": {
     "end_time": "2021-02-25T14:30:14.003653Z",
     "start_time": "2021-02-25T14:30:13.730105Z"
    }
   },
   "outputs": [
    {
     "data": {
      "image/png": "[encoded data removed]",
      "text/plain": [
       "<Figure size 432x288 with 1 Axes>"
      ]
     },
     "metadata": {
      "needs_background": "light"
     },
     "output_type": "display_data"
    },
    {
     "data": {
      "image/png": "[encoded data removed]",
      "text/plain": [
       "<Figure size 432x288 with 1 Axes>"
      ]
     },
     "metadata": {
      "needs_background": "light"
     },
     "output_type": "display_data"
    }
   ],
   "source": [
    "# Read in data for permittivities 50 and 75. \n",
    "\n",
    "for h, g in enumerate([50,75]):\n",
    "    distri = np.zeros((37,100))\n",
    "\n",
    "    for j in range(50):\n",
    "        path = \"./simulation_data/30_01_21/charges_2109/perm_{}/calc_{}/average_occupancy.json\".format(g,j)\n",
    "\n",
    "        distribution_data = format_distribution(path)\n",
    "\n",
    "        distri[:,2 * j] = distribution_data[38:]\n",
    "        distri[:,2 * j + 1] = np.flip(distribution_data[:37])\n",
    "        \n",
    "        all_2109_paths[\"permittivity_{}\".format(g)].append(path)\n",
    "\n",
    "\n",
    "    i = [10,11]\n",
    "    \n",
    "    distributions = np.mean(distri, axis = 1 )\n",
    "    \n",
    "    all_2109_distributions[:,i[h]] = distributions\n",
    "\n",
    "    err = np.zeros(37)\n",
    "\n",
    "    for k in range(37):\n",
    "        err[k] = np.std(distri[k,:])  \n",
    "        \n",
    "    all_2109_errors_se[:,i[h]] = err / np.sqrt(100)\n",
    "    all_2109_errors_sd[:,i[h]] = err \n",
    "\n",
    "\n",
    "    x = np.array(range(1,38))*2.5e-10\n",
    "\n",
    "    plt.errorbar(x, distributions, err, fmt=\"o\")\n",
    "    plt.xlabel(r\"x / m\")\n",
    "    plt.ylabel(r\"Average occupancy of plane\")\n",
    "    plt.title(r\"$\\epsilon_{r}$ = \" + str(g))\n",
    "    \n",
    "    # Uncomment the below out if you wish to view all the individual simulations\n",
    "#     for i in range(100):\n",
    "#         plt.plot(x, distri[:,i], '-')\n",
    "        \n",
    "    plt.show()\n"
   ]
  },
  {
   "cell_type": "code",
   "execution_count": 48,
   "metadata": {
    "ExecuteTime": {
     "end_time": "2021-02-25T14:30:14.195245Z",
     "start_time": "2021-02-25T14:30:14.005949Z"
    }
   },
   "outputs": [
    {
     "data": {
      "image/png": "[encoded data removed]",
      "text/plain": [
       "<Figure size 432x288 with 1 Axes>"
      ]
     },
     "metadata": {
      "needs_background": "light"
     },
     "output_type": "display_data"
    }
   ],
   "source": [
    "# Read in data for permittivity 100. \n",
    "\n",
    "distri_100 = np.zeros((37,654))\n",
    "\n",
    "for j in range(20):\n",
    "    path = \"./simulation_data/17_01_21/charges_2109/perm_100/calc_{}/average_occupancy.json\".format(j)\n",
    "\n",
    "    distribution_data = format_distribution(path)\n",
    "\n",
    "    distri_100[:,2 * j] = distribution_data[38:]\n",
    "    distri_100[:,2 * j + 1] = np.flip(distribution_data[:37])\n",
    "    \n",
    "    all_2109_paths[\"permittivity_{}\".format(100)].append(path)\n",
    "\n",
    "    \n",
    "for j in range(30):\n",
    "    path = \"./simulation_data/18_01_21/charges_2109/perm_100/calc_{}/average_occupancy.json\".format(j)\n",
    "\n",
    "    distribution_data = format_distribution(path)\n",
    "\n",
    "    distri_100[:,40+2 * j] = distribution_data[38:]\n",
    "    distri_100[:,40+2 * j + 1] = np.flip(distribution_data[:37])\n",
    "    \n",
    "    all_2109_paths[\"permittivity_{}\".format(100)].append(path)\n",
    "\n",
    "    \n",
    "for j in range(30):\n",
    "    path = \"./simulation_data/19_01_21/charges_2109/perm_100/calc_{}/average_occupancy.json\".format(j)\n",
    "\n",
    "    distribution_data = format_distribution(path)\n",
    "\n",
    "    distri_100[:,100+2 * j] = distribution_data[38:]\n",
    "    distri_100[:,100+2 * j + 1] = np.flip(distribution_data[:37])\n",
    "    \n",
    "    all_2109_paths[\"permittivity_{}\".format(100)].append(path)\n",
    "    \n",
    "for j in range(21):\n",
    "    path = \"./simulation_data/04_02_21/charges_2109/perm_100/calc_{}/average_occupancy.json\".format(j)\n",
    "\n",
    "    distribution_data = format_distribution(path)\n",
    "\n",
    "    distri_100[:,160+2 * j] = distribution_data[38:]\n",
    "    distri_100[:,160+2 * j + 1] = np.flip(distribution_data[:37])\n",
    "    all_2109_paths[\"permittivity_{}\".format(100)].append(path)\n",
    "\n",
    "    \n",
    "for j in range(22,50):\n",
    "    path = \"./simulation_data/04_02_21/charges_2109/perm_100/calc_{}/average_occupancy.json\".format(j)\n",
    "\n",
    "    distribution_data = format_distribution(path)\n",
    "\n",
    "    distri_100[:,202+2 * (j-22)] = distribution_data[38:]\n",
    "    distri_100[:,202+2 * (j-22) + 1] = np.flip(distribution_data[:37])\n",
    "    \n",
    "    all_2109_paths[\"permittivity_{}\".format(100)].append(path)\n",
    "\n",
    "    \n",
    "for j in range(50):\n",
    "    path = \"./simulation_data/05_02_21/charges_2109/perm_100/calc_{}/average_occupancy.json\".format(j)\n",
    "\n",
    "    distribution_data = format_distribution(path)\n",
    "\n",
    "    distri_100[:,258+2 * j] = distribution_data[38:]\n",
    "    distri_100[:,258+2 * j + 1] = np.flip(distribution_data[:37])\n",
    "    \n",
    "    all_2109_paths[\"permittivity_{}\".format(100)].append(path)\n",
    "\n",
    "    \n",
    "for j in range(51,100):\n",
    "    path = \"./simulation_data/05_02_21/charges_2109/perm_100/calc_{}/average_occupancy.json\".format(j)\n",
    "\n",
    "    distribution_data = format_distribution(path)\n",
    "\n",
    "    distri_100[:,358+2 * (j-51)] = distribution_data[38:]\n",
    "    distri_100[:,358+2 * (j-51) + 1] = np.flip(distribution_data[:37])\n",
    "    \n",
    "    all_2109_paths[\"permittivity_{}\".format(100)].append(path)\n",
    "\n",
    "\n",
    "    \n",
    "for j in range(50):\n",
    "    path = \"./simulation_data/07_02_21/charges_2109/perm_100/calc_{}/average_occupancy.json\".format(j)\n",
    "\n",
    "    distribution_data = format_distribution(path)\n",
    "\n",
    "    distri_100[:,456+2 * (j)] = distribution_data[38:]\n",
    "    distri_100[:,456+2 * (j) + 1] = np.flip(distribution_data[:37])\n",
    "    \n",
    "    all_2109_paths[\"permittivity_{}\".format(100)].append(path)\n",
    "\n",
    "\n",
    "    \n",
    "for j in range(51,100):\n",
    "    path = \"./simulation_data/07_02_21/charges_2109/perm_100/calc_{}/average_occupancy.json\".format(j)\n",
    "\n",
    "    distribution_data = format_distribution(path)\n",
    "\n",
    "    distri_100[:,556+2 * (j-51)] = distribution_data[38:]\n",
    "    distri_100[:,556+2 * (j-51) + 1] = np.flip(distribution_data[:37])\n",
    "    \n",
    "    all_2109_paths[\"permittivity_{}\".format(100)].append(path)\n",
    "\n",
    "    \n",
    "distributions_100 = np.mean(distri_100, axis = 1 )\n",
    "\n",
    "err_100 = np.zeros(37)\n",
    "\n",
    "for k in range(37):\n",
    "    err_100[k] = np.std(distri_100[k,:])  \n",
    "    \n",
    "    \n",
    "all_2109_distributions[:,12] = distributions_100\n",
    "all_2109_errors_se[:,12] = err / np.sqrt(654)\n",
    "all_2109_errors_sd[:,12] = err \n",
    "\n",
    "\n",
    "\n",
    "x = np.array(range(1,38))*2.5e-10\n",
    "\n",
    "plt.errorbar(x, distributions_100, err_100, fmt=\"o\") # error bars are standard deviations\n",
    "plt.xlabel(r\"x / m\")\n",
    "plt.ylabel(r\"Average occupancy of plane\")\n",
    "plt.title(r\"$\\epsilon_{r}$ = \" + str(100))\n",
    "plt.hlines( 2109 / 75,0, 37*2.5e-10, linestyles = \"dotted\")\n",
    "\n",
    "# Uncomment the below out if you wish to view all the individual simulations\n",
    "# for i in range(654):\n",
    "#     plt.plot(x, distri_100[:,i], '-')\n",
    "    \n",
    "plt.show()\n"
   ]
  },
  {
   "cell_type": "code",
   "execution_count": 49,
   "metadata": {
    "ExecuteTime": {
     "end_time": "2021-02-25T14:30:14.345564Z",
     "start_time": "2021-02-25T14:30:14.197866Z"
    }
   },
   "outputs": [
    {
     "data": {
      "image/png": "[encoded data removed]",
      "text/plain": [
       "<Figure size 432x288 with 1 Axes>"
      ]
     },
     "metadata": {
      "needs_background": "light"
     },
     "output_type": "display_data"
    }
   ],
   "source": [
    "# Read in data for permittivity 10. \n",
    "\n",
    "distri_10 = np.zeros((37,60))\n",
    "\n",
    "for j in range(30):\n",
    "    path = \"./simulation_data/21_01_21/charges_2109/perm_10/calc_{}/average_occupancy.json\".format(j)\n",
    "\n",
    "    distribution_data = format_distribution(path)\n",
    "\n",
    "    distri_10[:,2 * j] = distribution_data[38:]\n",
    "    distri_10[:,2 * j + 1] = np.flip(distribution_data[:37])\n",
    "    \n",
    "    all_2109_paths[\"permittivity_{}\".format(10)].append(path)\n",
    "\n",
    "\n",
    "    \n",
    "distributions_10 = np.mean(distri_10, axis = 1 )\n",
    "\n",
    "err_10 = np.zeros(37)\n",
    "\n",
    "for k in range(37):\n",
    "    err_10[k] = np.std(distri_10[k,:])  \n",
    "\n",
    "x = np.array(range(1,38))*2.5e-10\n",
    "\n",
    "plt.errorbar(x, distributions_10, err_10, fmt=\"o \") # error bars are standard deviations\n",
    "plt.xlabel(r\"x / m\")\n",
    "plt.ylabel(r\"Average occupancy of plane\")\n",
    "plt.title(r\"$\\epsilon_{r}$ = \" + str(10))\n",
    "plt.hlines( 2109 / 75,0, 37*2.5e-10, linestyles = \"dotted\")\n",
    "\n",
    "# Uncomment the below out if you wish to view all the individual simulations\n",
    "# for i in range(60):\n",
    "#     plt.plot(x, distri_10[:,i], '-')\n",
    "    \n",
    "plt.show()\n",
    "\n",
    "all_2109_distributions[:,3] = distributions_10\n",
    "\n",
    "all_2109_errors_se[:,3] = err_10 / np.sqrt(60)\n",
    "all_2109_errors_sd[:,3] = err_10 "
   ]
  },
  {
   "cell_type": "code",
   "execution_count": 50,
   "metadata": {
    "ExecuteTime": {
     "end_time": "2021-02-25T14:30:14.488271Z",
     "start_time": "2021-02-25T14:30:14.348023Z"
    }
   },
   "outputs": [
    {
     "data": {
      "image/png": "[encoded data removed]",
      "text/plain": [
       "<Figure size 432x288 with 1 Axes>"
      ]
     },
     "metadata": {
      "needs_background": "light"
     },
     "output_type": "display_data"
    }
   ],
   "source": [
    "distri_1 = np.zeros((37,60))\n",
    "\n",
    "for j in range(30):\n",
    "    path = \"./simulation_data/20_01_21/charges_2109/perm_1/calc_{}/average_occupancy.json\".format(j)\n",
    "\n",
    "    distribution_data = format_distribution(path)\n",
    "\n",
    "    distri_1[:,2 * j] = distribution_data[38:]\n",
    "    distri_1[:,2 * j + 1] = np.flip(distribution_data[:37])\n",
    "    \n",
    "    all_2109_paths[\"permittivity_{}\".format(1)].append(path)\n",
    "\n",
    "    \n",
    "distributions_1 = np.mean(distri_1, axis = 1 )\n",
    "\n",
    "err_1 = np.zeros(37)\n",
    "\n",
    "for k in range(37):\n",
    "    err_1[k] = np.std(distri_1[k,:])  \n",
    "\n",
    "\n",
    "x = np.array(range(1,38))*2.5e-10\n",
    "\n",
    "plt.errorbar(x, distributions_1, err_1, fmt=\"o\") # error bars are standard deviations\n",
    "plt.xlabel(r\"x / m\")\n",
    "plt.ylabel(r\"Average occupancy of plane\")\n",
    "plt.title(r\"$\\epsilon_{r}$ = \" + str(1))\n",
    "plt.hlines( 2109 / 75,0, 37*2.5e-10, linestyles = \"dotted\")\n",
    "\n",
    "# Uncomment the below out if you wish to view all the individual simulations\n",
    "# for i in range(60):\n",
    "#     plt.plot(x, distri_1[:,i], '-')\n",
    "plt.show()\n",
    "\n",
    "all_2109_distributions[:,0] = distributions_1\n",
    "\n",
    "all_2109_errors_se[:,0] = err_1 / np.sqrt(60)\n",
    "all_2109_errors_sd[:,0] = err_1 "
   ]
  },
  {
   "cell_type": "code",
   "execution_count": 51,
   "metadata": {
    "ExecuteTime": {
     "end_time": "2021-02-25T14:30:14.624365Z",
     "start_time": "2021-02-25T14:30:14.490267Z"
    }
   },
   "outputs": [
    {
     "data": {
      "image/png": "[encoded data removed]",
      "text/plain": [
       "<Figure size 432x288 with 1 Axes>"
      ]
     },
     "metadata": {
      "needs_background": "light"
     },
     "output_type": "display_data"
    }
   ],
   "source": [
    "distri = np.zeros((37,60))\n",
    "\n",
    "for j in range(30):\n",
    "    path = \"./simulation_data/23_02_21/charges_2109/perm_2/calc_{}/average_occupancy.json\".format(j)\n",
    "\n",
    "    distribution_data = format_distribution(path)\n",
    "\n",
    "    distri[:,2 * j] = distribution_data[38:]\n",
    "    distri[:,2 * j + 1] = np.flip(distribution_data[:37])\n",
    "    \n",
    "    all_2109_paths[\"permittivity_{}\".format(2)].append(path)\n",
    "    \n",
    "\n",
    "    \n",
    "distributions = np.mean(distri, axis = 1 )\n",
    "\n",
    "err = np.zeros(37)\n",
    "\n",
    "for k in range(37):\n",
    "    err[k] = np.std(distri[k,:])  \n",
    "\n",
    "\n",
    "x = np.array(range(1,38))*2.5e-10\n",
    "\n",
    "plt.errorbar(x, distributions , err , fmt=\"o\") # error bars are standard deviations \n",
    "plt.xlabel(r\"x / m\")\n",
    "plt.ylabel(r\"Average occupancy of plane\")\n",
    "plt.title(r\"$\\epsilon_{r}$ = \" + str(2))\n",
    "plt.hlines( 2109 / 75,0, 37*2.5e-10, linestyles = \"dotted\")\n",
    "\n",
    "# Uncomment the below out if you wish to view all the individual simulations\n",
    "# for i in range(58):\n",
    "#     plt.plot(x, distri[:,i], '-')\n",
    "plt.show()\n",
    "\n",
    "all_2109_distributions[:,13] = distributions\n",
    "\n",
    "all_2109_errors_se[:,13] = err / np.sqrt(60)\n",
    "all_2109_errors_sd[:,13] = err "
   ]
  },
  {
   "cell_type": "code",
   "execution_count": 52,
   "metadata": {},
   "outputs": [
    {
     "name": "stdout",
     "output_type": "stream",
     "text": [
      "30\n",
      "30\n",
      "30\n",
      "30\n",
      "30\n",
      "30\n",
      "30\n",
      "30\n",
      "30\n",
      "30\n",
      "50\n",
      "50\n",
      "327\n",
      "30\n"
     ]
    }
   ],
   "source": [
    "for i in [1, 4, 7, 10, 13, 16, 19, 22, 25, 28, 50, 75, 100, 2]:\n",
    "    print(len(all_2109_paths[\"permittivity_{}\".format(i)]))"
   ]
  },
  {
   "cell_type": "code",
   "execution_count": 53,
   "metadata": {},
   "outputs": [],
   "source": [
    "with open(\"2109_charges_paths.json\", 'w') as data:\n",
    "    json.dump(all_2109_paths, data)"
   ]
  },
  {
   "cell_type": "code",
   "execution_count": null,
   "metadata": {
    "ExecuteTime": {
     "end_time": "2021-02-25T14:30:14.637462Z",
     "start_time": "2021-02-25T14:30:14.626419Z"
    }
   },
   "outputs": [],
   "source": [
    "# Create json containing distributions and errors\n",
    "\n",
    "permittivities = [1, 4, 7, 10, 13, 16, 19, 22, 25, 28, 50, 75, 100, 2]\n",
    "\n",
    "data_dictionary = {}\n",
    "\n",
    "for i in range(14):\n",
    "    data_dictionary[\"distribution_{}\".format(permittivities[i])] = list(all_2109_distributions[:,i])\n",
    "    data_dictionary[\"standard_deviations_{}\".format(permittivities[i])] = list(all_2109_errors_sd[:,i])\n",
    "    data_dictionary[\"standard_errors_{}\".format(permittivities[i])] = list(all_2109_errors_se[:,i])\n",
    "    print(np.max(all_105_errors_se[:,i]), permittivities[i], 105)\n",
    "    print(np.max(all_210_errors_se[:,i]), permittivities[i], 210)\n",
    "    print(np.max(all_421_errors_se[:,i]), permittivities[i], 421)\n",
    "    print(np.max(all_2109_errors_se[:,i]), permittivities[i], 2109)\n",
    "    \n",
    "# with open('2109_charges_distributions_errors.json', 'w') as outfile:\n",
    "#     json.dump(data_dictionary, outfile)"
   ]
  },
  {
   "cell_type": "code",
   "execution_count": null,
   "metadata": {},
   "outputs": [],
   "source": [
    "charges = [105, 210, 421]\n",
    "perms_16 = [1,4,7,10,13,16]\n",
    "perm_28 = [19,22,25,28]\n",
    "\n",
    "for c in [105,210]:\n",
    "    for p in perms_16:\n",
    "        for calc in range(10):\n",
    "            path1 = \"./27_11_20/charges_{}/perm_{}/calc_{}/average_occupancy_mean.json\".format(c,p,calc)\n",
    "            path2 = \"./27_11_20/charges_{}/perm_{}/calc_{}/average_occupancy.json\".format(c,p,calc)\n",
    "            path3 = \"./27_11_20/charges_{}/perm_{}/calc_{}/average_occupancy_second.json\".format(c,p,calc)\n",
    "\n",
    "            with open(path2) as json_file:\n",
    "                data1 = json.load(json_file)\n",
    "\n",
    "            # Get the average_occupancy data\n",
    "            distribution_data_1 = np.array(data1['average_occupancy'])\n",
    "\n",
    "            # Read data\n",
    "            with open(path3) as json_file:\n",
    "                    data2 = json.load(json_file)\n",
    "\n",
    "            # Get the average_occupancy data\n",
    "            distribution_data_2 = np.array(data2['average_occupancy'])\n",
    "\n",
    "            average_distribution_data = 0.5*(distribution_data_1 + distribution_data_2)\n",
    "\n",
    "            with open(path1) as json_file:\n",
    "                    data = json.load(json_file)\n",
    "\n",
    "            # Get the average_occupancy data\n",
    "            distribution_data = np.array(data['average_occupancy'])\n",
    "\n",
    "            print(np.max(distribution_data - average_distribution_data))\n",
    "            \n",
    "for c in [105,210]:\n",
    "    for p in perm_28:\n",
    "        for calc in range(10):\n",
    "            path1 = \"./07_12_20/charges_{}/perm_{}/calc_{}/average_occupancy_mean.json\".format(c,p,calc)\n",
    "            path2 = \"./07_12_20/charges_{}/perm_{}/calc_{}/average_occupancy.json\".format(c,p,calc)\n",
    "            path3 = \"./07_12_20/charges_{}/perm_{}/calc_{}/average_occupancy_first.json\".format(c,p,calc)\n",
    "\n",
    "            with open(path2) as json_file:\n",
    "                data1 = json.load(json_file)\n",
    "\n",
    "            # Get the average_occupancy data\n",
    "            distribution_data_1 = np.array(data1['average_occupancy'])\n",
    "\n",
    "            # Read data\n",
    "            with open(path3) as json_file:\n",
    "                    data2 = json.load(json_file)\n",
    "\n",
    "            # Get the average_occupancy data\n",
    "            distribution_data_2 = np.array(data2['average_occupancy'])\n",
    "\n",
    "            average_distribution_data = 0.5*(distribution_data_1 + distribution_data_2)\n",
    "\n",
    "            with open(path1) as json_file:\n",
    "                    data = json.load(json_file)\n",
    "\n",
    "            # Get the average_occupancy data\n",
    "            distribution_data = np.array(data['average_occupancy'])\n",
    "\n",
    "            print(np.max(distribution_data - average_distribution_data))\n",
    "            \n",
    "for c in [421]:\n",
    "    for p in perms_16:\n",
    "        for calc in range(10):\n",
    "            path1 = \"./07_12_20/charges_{}/perm_{}/calc_{}/average_occupancy_mean.json\".format(c,p,calc)\n",
    "            path2 = \"./07_12_20/charges_{}/perm_{}/calc_{}/average_occupancy.json\".format(c,p,calc)\n",
    "            path3 = \"./07_12_20/charges_{}/perm_{}/calc_{}/average_occupancy_first.json\".format(c,p,calc)\n",
    "\n",
    "            with open(path2) as json_file:\n",
    "                data1 = json.load(json_file)\n",
    "\n",
    "            # Get the average_occupancy data\n",
    "            distribution_data_1 = np.array(data1['average_occupancy'])\n",
    "\n",
    "            # Read data\n",
    "            with open(path3) as json_file:\n",
    "                    data2 = json.load(json_file)\n",
    "\n",
    "            # Get the average_occupancy data\n",
    "            distribution_data_2 = np.array(data2['average_occupancy'])\n",
    "\n",
    "            average_distribution_data = 0.5*(distribution_data_1 + distribution_data_2)\n",
    "\n",
    "            with open(path1) as json_file:\n",
    "                    data = json.load(json_file)\n",
    "\n",
    "            # Get the average_occupancy data\n",
    "            distribution_data = np.array(data['average_occupancy'])\n",
    "\n",
    "            print(np.max(distribution_data - average_distribution_data))\n",
    "            \n",
    "            \n",
    "for c in [421]:\n",
    "    for p in perm_28:\n",
    "        for calc in range(10):\n",
    "            path1 = \"./07_12_20/charges_{}/perm_{}/calc_{}/average_occupancy_mean.json\".format(c,p,calc)\n",
    "            path2 = \"./07_12_20/charges_{}/perm_{}/calc_{}/average_occupancy.json\".format(c,p,calc)\n",
    "            path3 = \"./07_12_20/charges_{}/perm_{}/calc_{}/average_occupancy_first.json\".format(c,p,calc)\n",
    "\n",
    "            with open(path2) as json_file:\n",
    "                data1 = json.load(json_file)\n",
    "\n",
    "            # Get the average_occupancy data\n",
    "            distribution_data_1 = np.array(data1['average_occupancy'])\n",
    "\n",
    "            # Read data\n",
    "            with open(path3) as json_file:\n",
    "                    data2 = json.load(json_file)\n",
    "\n",
    "            # Get the average_occupancy data\n",
    "            distribution_data_2 = np.array(data2['average_occupancy'])\n",
    "\n",
    "            average_distribution_data = 0.5*(distribution_data_1 + distribution_data_2)\n",
    "\n",
    "            with open(path1) as json_file:\n",
    "                    data = json.load(json_file)\n",
    "\n",
    "            # Get the average_occupancy data\n",
    "            distribution_data = np.array(data['average_occupancy'])\n",
    "\n",
    "            print(np.max(distribution_data - average_distribution_data))\n",
    "\n",
    "for c in [421]:\n",
    "    for p in perms_16:\n",
    "        for calc in range(10):\n",
    "            path1 = \"./27_11_20_S/charges_{}/perm_{}/calc_{}/average_occupancy_mean.json\".format(c,p,calc)\n",
    "            path2 = \"./27_11_20_S/charges_{}/perm_{}/calc_{}/average_occupancy.json\".format(c,p,calc)\n",
    "            path3 = \"./27_11_20_S/charges_{}/perm_{}/calc_{}/average_occupancy_first.json\".format(c,p,calc)\n",
    "\n",
    "            with open(path2) as json_file:\n",
    "                data1 = json.load(json_file)\n",
    "\n",
    "            # Get the average_occupancy data\n",
    "            distribution_data_1 = np.array(data1['average_occupancy'])\n",
    "\n",
    "            # Read data\n",
    "            with open(path3) as json_file:\n",
    "                    data2 = json.load(json_file)\n",
    "\n",
    "            # Get the average_occupancy data\n",
    "            distribution_data_2 = np.array(data2['average_occupancy'])\n",
    "\n",
    "            average_distribution_data = 0.5*(distribution_data_1 + distribution_data_2)\n",
    "\n",
    "            with open(path1) as json_file:\n",
    "                    data = json.load(json_file)\n",
    "\n",
    "            # Get the average_occupancy data\n",
    "            distribution_data = np.array(data['average_occupancy'])\n",
    "\n",
    "            print(np.max(distribution_data - average_distribution_data))\n",
    "            \n",
    "for c in [421]:\n",
    "    for p in perm_28:\n",
    "        for calc in range(10):\n",
    "            path1 = \"./27_11_20_S/charges_{}/perm_{}/calc_{}/average_occupancy_mean.json\".format(c,p,calc)\n",
    "            path2 = \"./27_11_20_S/charges_{}/perm_{}/calc_{}/average_occupancy.json\".format(c,p,calc)\n",
    "            path3 = \"./27_11_20_S/charges_{}/perm_{}/calc_{}/average_occupancy_first.json\".format(c,p,calc)\n",
    "\n",
    "            with open(path2) as json_file:\n",
    "                data1 = json.load(json_file)\n",
    "\n",
    "            # Get the average_occupancy data\n",
    "            distribution_data_1 = np.array(data1['average_occupancy'])\n",
    "\n",
    "            # Read data\n",
    "            with open(path3) as json_file:\n",
    "                    data2 = json.load(json_file)\n",
    "\n",
    "            # Get the average_occupancy data\n",
    "            distribution_data_2 = np.array(data2['average_occupancy'])\n",
    "\n",
    "            average_distribution_data = 0.5*(distribution_data_1 + distribution_data_2)\n",
    "\n",
    "            with open(path1) as json_file:\n",
    "                    data = json.load(json_file)\n",
    "\n",
    "            # Get the average_occupancy data\n",
    "            distribution_data = np.array(data['average_occupancy'])\n",
    "\n",
    "            print(np.max(distribution_data - average_distribution_data))"
   ]
  },
  {
   "cell_type": "code",
   "execution_count": null,
   "metadata": {},
   "outputs": [],
   "source": [
    "for c in [421]:\n",
    "    for p in perm_28:\n",
    "        for calc in range(10):\n",
    "            path1 = \"./27_11_20_S/charges_{}/perm_{}/calc_{}/average_occupancy_mean.json\".format(c,p,calc)\n",
    "            path2 = \"./27_11_20_S/charges_{}/perm_{}/calc_{}/average_occupancy.json\".format(c,p,calc)\n",
    "            path3 = \"./27_11_20_S/charges_{}/perm_{}/calc_{}/average_occupancy_first.json\".format(c,p,calc)\n",
    "\n",
    "            with open(path2) as json_file:\n",
    "                data1 = json.load(json_file)\n",
    "\n",
    "            # Get the average_occupancy data\n",
    "            distribution_data_1 = np.array(data1['average_occupancy'])\n",
    "\n",
    "            # Read data\n",
    "            with open(path3) as json_file:\n",
    "                    data2 = json.load(json_file)\n",
    "\n",
    "            # Get the average_occupancy data\n",
    "            distribution_data_2 = np.array(data2['average_occupancy'])\n",
    "\n",
    "            average_distribution_data = 0.5*(distribution_data_1 + distribution_data_2)\n",
    "\n",
    "            with open(path1) as json_file:\n",
    "                    data = json.load(json_file)\n",
    "\n",
    "            # Get the average_occupancy data\n",
    "            distribution_data = np.array(data['average_occupancy'])\n",
    "\n",
    "            print(np.max(distribution_data - average_distribution_data))"
   ]
  },
  {
   "cell_type": "code",
   "execution_count": null,
   "metadata": {},
   "outputs": [],
   "source": [
    "x = np.array(range(4, 38)) * 2.5e-10\n",
    "len(x)"
   ]
  },
  {
   "cell_type": "code",
   "execution_count": null,
   "metadata": {},
   "outputs": [],
   "source": []
  }
 ],
 "metadata": {
  "kernelspec": {
   "display_name": "Python 3",
   "language": "python",
   "name": "python3"
  },
  "language_info": {
   "codemirror_mode": {
    "name": "ipython",
    "version": 3
   },
   "file_extension": ".py",
   "mimetype": "text/x-python",
   "name": "python",
   "nbconvert_exporter": "python",
   "pygments_lexer": "ipython3",
   "version": "3.7.0"
  }
 },
 "nbformat": 4,
 "nbformat_minor": 2
}
